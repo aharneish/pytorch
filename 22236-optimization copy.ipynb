{
 "cells": [
  {
   "cell_type": "code",
   "execution_count": 1,
   "metadata": {},
   "outputs": [],
   "source": [
    "import torch \n",
    "from torch import nn\n",
    "from torch.utils.data import DataLoader\n",
    "from torchvision import datasets\n",
    "from torchvision.transforms import ToTensor"
   ]
  },
  {
   "cell_type": "code",
   "execution_count": 2,
   "metadata": {},
   "outputs": [],
   "source": [
    "training_data=datasets.FashionMNIST(\n",
    "    root=\"data\",\n",
    "    train=True,\n",
    "    download=True,\n",
    "    transform=ToTensor()\n",
    ")\n",
    "test_data=datasets.FashionMNIST(\n",
    "    root=\"data\",\n",
    "    train=False,\n",
    "    download=True,\n",
    "    transform=ToTensor()\n",
    ")"
   ]
  },
  {
   "cell_type": "code",
   "execution_count": 3,
   "metadata": {},
   "outputs": [],
   "source": [
    "train_dataloader=DataLoader(training_data, batch_size=64)\n",
    "test_dataloader=DataLoader(test_data, batch_size=64)"
   ]
  },
  {
   "cell_type": "code",
   "execution_count": 4,
   "metadata": {},
   "outputs": [],
   "source": [
    "class NeuralNetwork(nn.Module):\n",
    "    def __init__(self):\n",
    "        super().__init__()\n",
    "        self.flatten=nn.Flatten()\n",
    "        self.linear_relu_stack=nn.Sequential(\n",
    "            nn.Linear(28*28, 512),\n",
    "            nn.ReLU(),\n",
    "            nn.Linear(512, 512),\n",
    "            nn.ReLU(),\n",
    "            nn.Linear(512, 10),\n",
    "        )\n",
    "    def forward(self, x):\n",
    "        x=self.flatten(x)\n",
    "        logits=self.linear_relu_stack(x)\n",
    "        return logits"
   ]
  },
  {
   "cell_type": "code",
   "execution_count": 5,
   "metadata": {},
   "outputs": [],
   "source": [
    "model=NeuralNetwork()"
   ]
  },
  {
   "cell_type": "markdown",
   "metadata": {},
   "source": [
    "# HyperParameters\n",
    "the following are the hyperparametrs that are used for training:\n",
    "* number of epochs\n",
    "* batch size\n",
    "* learning rate"
   ]
  },
  {
   "cell_type": "code",
   "execution_count": 6,
   "metadata": {},
   "outputs": [],
   "source": [
    "lr=1e-3\n",
    "batch_size=64\n",
    "epochs=5"
   ]
  },
  {
   "cell_type": "markdown",
   "metadata": {},
   "source": [
    "# optimization loop\n",
    "each epoch consits of two components:\n",
    "* the Training Loop\n",
    "* The validation or Test Loop\n",
    "## Loss Function\n",
    "loss function measures the degree of dissimilarity of the obtained result to the target value and it is loss function that we want to minimize during training"
   ]
  },
  {
   "cell_type": "code",
   "execution_count": 7,
   "metadata": {},
   "outputs": [],
   "source": [
    "loss_fn=nn.CrossEntropyLoss()"
   ]
  },
  {
   "cell_type": "markdown",
   "metadata": {},
   "source": [
    "# Optimizer\n",
    "it refers to the process of adjusting the model parameters to reduce the model error in each training step"
   ]
  },
  {
   "cell_type": "code",
   "execution_count": 8,
   "metadata": {},
   "outputs": [],
   "source": [
    "optimizer=torch.optim.SGD(model.parameters(),lr=lr)"
   ]
  },
  {
   "cell_type": "markdown",
   "metadata": {},
   "source": [
    "# Full Implementation\n",
    "define train loop and test loop"
   ]
  },
  {
   "cell_type": "code",
   "execution_count": 10,
   "metadata": {},
   "outputs": [],
   "source": [
    "def train_loop(dataloader,model,loss_fn,optimizer):\n",
    "    size=len(dataloader.dataset)\n",
    "    model.train()# setting the model to training mode\n",
    "    for batch, (X,y) in enumerate(dataloader):\n",
    "        pred=model(X)# computing the prediction and loss\n",
    "        loss=loss_fn(pred,y)\n",
    "        loss.backward()#performing backward propagataion\n",
    "        optimizer.step()\n",
    "        optimizer.zero_grad()\n",
    "        if batch%100==0:\n",
    "            loss,current=loss.item(),(batch+1)*len(X)\n",
    "            print(f\"Loss: {loss:>7f} [{current:>5d}/{size:>5d}]\")"
   ]
  },
  {
   "cell_type": "code",
   "execution_count": 13,
   "metadata": {},
   "outputs": [],
   "source": [
    "def test_loop(dataloader,model,loss_fn):\n",
    "    model.eval()#setting the model to evaluation mode\n",
    "    size=len(dataloader.dataset)\n",
    "    num_batches=len(dataloader)\n",
    "    test_loss,correct=0,0\n",
    "    with torch.no_grad():# to not calculate the gradients during test mode\n",
    "        for X,y in dataloader:\n",
    "            pred=model(X)\n",
    "            test_loss+=loss_fn(pred,y).item()\n",
    "            correct+=(pred.argmax(1)==y).type(torch.float).sum().item()\n",
    "        test_loss/=num_batches\n",
    "        correct/=size\n",
    "        print(f\"Test error: \\nAccuracy: {(100*correct):>0.1f}%, Avg loss: {test_loss:>8f}\\n\")"
   ]
  },
  {
   "cell_type": "code",
   "execution_count": 14,
   "metadata": {},
   "outputs": [
    {
     "name": "stdout",
     "output_type": "stream",
     "text": [
      "Epoch 1\n",
      "-------------------------------------------\n",
      "Loss: 2.164646 [   64/60000]\n",
      "Loss: 2.153761 [ 6464/60000]\n",
      "Loss: 2.096844 [12864/60000]\n",
      "Loss: 2.115379 [19264/60000]\n",
      "Loss: 2.059530 [25664/60000]\n",
      "Loss: 1.998811 [32064/60000]\n",
      "Loss: 2.029262 [38464/60000]\n",
      "Loss: 1.950431 [44864/60000]\n",
      "Loss: 1.952483 [51264/60000]\n",
      "Loss: 1.874153 [57664/60000]\n",
      "Test error: \n",
      "Accuracy: 56.1%, Avg loss: 1.877149\n",
      "\n",
      "Epoch 2\n",
      "-------------------------------------------\n",
      "Loss: 1.911999 [   64/60000]\n",
      "Loss: 1.880330 [ 6464/60000]\n",
      "Loss: 1.765413 [12864/60000]\n",
      "Loss: 1.810044 [19264/60000]\n",
      "Loss: 1.694422 [25664/60000]\n",
      "Loss: 1.640142 [32064/60000]\n",
      "Loss: 1.664474 [38464/60000]\n",
      "Loss: 1.567539 [44864/60000]\n",
      "Loss: 1.587394 [51264/60000]\n",
      "Loss: 1.483497 [57664/60000]\n",
      "Test error: \n",
      "Accuracy: 61.5%, Avg loss: 1.505084\n",
      "\n",
      "Epoch 3\n",
      "-------------------------------------------\n",
      "Loss: 1.570059 [   64/60000]\n",
      "Loss: 1.538737 [ 6464/60000]\n",
      "Loss: 1.390626 [12864/60000]\n",
      "Loss: 1.472180 [19264/60000]\n",
      "Loss: 1.349076 [25664/60000]\n",
      "Loss: 1.336566 [32064/60000]\n",
      "Loss: 1.355601 [38464/60000]\n",
      "Loss: 1.281331 [44864/60000]\n",
      "Loss: 1.313744 [51264/60000]\n",
      "Loss: 1.224387 [57664/60000]\n",
      "Test error: \n",
      "Accuracy: 63.5%, Avg loss: 1.246217\n",
      "\n",
      "Epoch 4\n",
      "-------------------------------------------\n",
      "Loss: 1.318341 [   64/60000]\n",
      "Loss: 1.308233 [ 6464/60000]\n",
      "Loss: 1.141604 [12864/60000]\n",
      "Loss: 1.259030 [19264/60000]\n",
      "Loss: 1.127988 [25664/60000]\n",
      "Loss: 1.144236 [32064/60000]\n",
      "Loss: 1.170351 [38464/60000]\n",
      "Loss: 1.106451 [44864/60000]\n",
      "Loss: 1.146617 [51264/60000]\n",
      "Loss: 1.074912 [57664/60000]\n",
      "Test error: \n",
      "Accuracy: 64.8%, Avg loss: 1.087714\n",
      "\n",
      "Epoch 5\n",
      "-------------------------------------------\n",
      "Loss: 1.153523 [   64/60000]\n",
      "Loss: 1.165185 [ 6464/60000]\n",
      "Loss: 0.980876 [12864/60000]\n",
      "Loss: 1.126578 [19264/60000]\n",
      "Loss: 0.993295 [25664/60000]\n",
      "Loss: 1.016350 [32064/60000]\n",
      "Loss: 1.056599 [38464/60000]\n",
      "Loss: 0.995252 [44864/60000]\n",
      "Loss: 1.037484 [51264/60000]\n",
      "Loss: 0.981156 [57664/60000]\n",
      "Test error: \n",
      "Accuracy: 66.3%, Avg loss: 0.985253\n",
      "\n",
      "Epoch 6\n",
      "-------------------------------------------\n",
      "Loss: 1.039177 [   64/60000]\n",
      "Loss: 1.072263 [ 6464/60000]\n",
      "Loss: 0.871194 [12864/60000]\n",
      "Loss: 1.037648 [19264/60000]\n",
      "Loss: 0.907579 [25664/60000]\n",
      "Loss: 0.925577 [32064/60000]\n",
      "Loss: 0.981063 [38464/60000]\n",
      "Loss: 0.921878 [44864/60000]\n",
      "Loss: 0.961069 [51264/60000]\n",
      "Loss: 0.917155 [57664/60000]\n",
      "Test error: \n",
      "Accuracy: 67.3%, Avg loss: 0.914187\n",
      "\n",
      "Epoch 7\n",
      "-------------------------------------------\n",
      "Loss: 0.953810 [   64/60000]\n",
      "Loss: 1.006507 [ 6464/60000]\n",
      "Loss: 0.791353 [12864/60000]\n",
      "Loss: 0.973668 [19264/60000]\n",
      "Loss: 0.849113 [25664/60000]\n",
      "Loss: 0.857510 [32064/60000]\n",
      "Loss: 0.926598 [38464/60000]\n",
      "Loss: 0.871631 [44864/60000]\n",
      "Loss: 0.904854 [51264/60000]\n",
      "Loss: 0.869023 [57664/60000]\n",
      "Test error: \n",
      "Accuracy: 68.6%, Avg loss: 0.861764\n",
      "\n",
      "Epoch 8\n",
      "-------------------------------------------\n",
      "Loss: 0.887210 [   64/60000]\n",
      "Loss: 0.955898 [ 6464/60000]\n",
      "Loss: 0.730568 [12864/60000]\n",
      "Loss: 0.924917 [19264/60000]\n",
      "Loss: 0.806747 [25664/60000]\n",
      "Loss: 0.804943 [32064/60000]\n",
      "Loss: 0.884383 [38464/60000]\n",
      "Loss: 0.836049 [44864/60000]\n",
      "Loss: 0.861981 [51264/60000]\n",
      "Loss: 0.831001 [57664/60000]\n",
      "Test error: \n",
      "Accuracy: 69.8%, Avg loss: 0.821139\n",
      "\n",
      "Epoch 9\n",
      "-------------------------------------------\n",
      "Loss: 0.832981 [   64/60000]\n",
      "Loss: 0.914499 [ 6464/60000]\n",
      "Loss: 0.682365 [12864/60000]\n",
      "Loss: 0.886230 [19264/60000]\n",
      "Loss: 0.774179 [25664/60000]\n",
      "Loss: 0.763673 [32064/60000]\n",
      "Loss: 0.849503 [38464/60000]\n",
      "Loss: 0.809767 [44864/60000]\n",
      "Loss: 0.828307 [51264/60000]\n",
      "Loss: 0.799623 [57664/60000]\n",
      "Test error: \n",
      "Accuracy: 71.3%, Avg loss: 0.788403\n",
      "\n",
      "Epoch 10\n",
      "-------------------------------------------\n",
      "Loss: 0.787596 [   64/60000]\n",
      "Loss: 0.879010 [ 6464/60000]\n",
      "Loss: 0.642982 [12864/60000]\n",
      "Loss: 0.854779 [19264/60000]\n",
      "Loss: 0.747919 [25664/60000]\n",
      "Loss: 0.730732 [32064/60000]\n",
      "Loss: 0.819648 [38464/60000]\n",
      "Loss: 0.789365 [44864/60000]\n",
      "Loss: 0.800874 [51264/60000]\n",
      "Loss: 0.772762 [57664/60000]\n",
      "Test error: \n",
      "Accuracy: 72.4%, Avg loss: 0.761062\n",
      "\n",
      "Done!!!!!!!\n"
     ]
    }
   ],
   "source": [
    "loss_fn=nn.CrossEntropyLoss()\n",
    "optimizer=torch.optim.SGD(model.parameters(),lr=lr)\n",
    "epochs=10\n",
    "for t in range(epochs):\n",
    "    print(f\"Epoch {t+1}\\n-------------------------------------------\")\n",
    "    train_loop(train_dataloader,model,loss_fn,optimizer)\n",
    "    test_loop(test_dataloader,model,loss_fn)\n",
    "print(\"Done!!!!!!!\")"
   ]
  }
 ],
 "metadata": {
  "kernelspec": {
   "display_name": "base",
   "language": "python",
   "name": "python3"
  },
  "language_info": {
   "codemirror_mode": {
    "name": "ipython",
    "version": 3
   },
   "file_extension": ".py",
   "mimetype": "text/x-python",
   "name": "python",
   "nbconvert_exporter": "python",
   "pygments_lexer": "ipython3",
   "version": "3.10.12"
  },
  "orig_nbformat": 4
 },
 "nbformat": 4,
 "nbformat_minor": 2
}
