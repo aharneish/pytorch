{
  "nbformat": 4,
  "nbformat_minor": 0,
  "metadata": {
    "colab": {
      "provenance": [],
      "gpuType": "T4"
    },
    "kernelspec": {
      "name": "python3",
      "display_name": "Python 3"
    },
    "language_info": {
      "name": "python"
    },
    "accelerator": "GPU"
  },
  "cells": [
    {
      "cell_type": "code",
      "execution_count": 1,
      "metadata": {
        "colab": {
          "base_uri": "https://localhost:8080/"
        },
        "id": "CkEmydsU_5S8",
        "outputId": "b1887aba-0684-41c3-a580-6530d12995a2"
      },
      "outputs": [
        {
          "output_type": "stream",
          "name": "stdout",
          "text": [
            "Found existing installation: gdown 4.6.6\n",
            "Uninstalling gdown-4.6.6:\n",
            "  Successfully uninstalled gdown-4.6.6\n"
          ]
        }
      ],
      "source": [
        "!pip uninstall --yes gdown # After running this line, restart Colab runtime."
      ]
    },
    {
      "cell_type": "code",
      "source": [
        "!pip install gdown -U --no-cache-dir"
      ],
      "metadata": {
        "colab": {
          "base_uri": "https://localhost:8080/"
        },
        "id": "5v6n9YcRApm5",
        "outputId": "aa831ee5-244c-47a2-c39e-d412e8f60f70"
      },
      "execution_count": 2,
      "outputs": [
        {
          "output_type": "stream",
          "name": "stdout",
          "text": [
            "Collecting gdown\n",
            "  Downloading gdown-4.7.1-py3-none-any.whl (15 kB)\n",
            "Requirement already satisfied: filelock in /usr/local/lib/python3.10/dist-packages (from gdown) (3.12.2)\n",
            "Requirement already satisfied: requests[socks] in /usr/local/lib/python3.10/dist-packages (from gdown) (2.31.0)\n",
            "Requirement already satisfied: six in /usr/local/lib/python3.10/dist-packages (from gdown) (1.16.0)\n",
            "Requirement already satisfied: tqdm in /usr/local/lib/python3.10/dist-packages (from gdown) (4.66.1)\n",
            "Requirement already satisfied: beautifulsoup4 in /usr/local/lib/python3.10/dist-packages (from gdown) (4.11.2)\n",
            "Requirement already satisfied: soupsieve>1.2 in /usr/local/lib/python3.10/dist-packages (from beautifulsoup4->gdown) (2.5)\n",
            "Requirement already satisfied: charset-normalizer<4,>=2 in /usr/local/lib/python3.10/dist-packages (from requests[socks]->gdown) (3.2.0)\n",
            "Requirement already satisfied: idna<4,>=2.5 in /usr/local/lib/python3.10/dist-packages (from requests[socks]->gdown) (3.4)\n",
            "Requirement already satisfied: urllib3<3,>=1.21.1 in /usr/local/lib/python3.10/dist-packages (from requests[socks]->gdown) (2.0.4)\n",
            "Requirement already satisfied: certifi>=2017.4.17 in /usr/local/lib/python3.10/dist-packages (from requests[socks]->gdown) (2023.7.22)\n",
            "Requirement already satisfied: PySocks!=1.5.7,>=1.5.6 in /usr/local/lib/python3.10/dist-packages (from requests[socks]->gdown) (1.7.1)\n",
            "Installing collected packages: gdown\n",
            "Successfully installed gdown-4.7.1\n"
          ]
        }
      ]
    },
    {
      "cell_type": "code",
      "source": [
        "import gdown\n",
        "\n",
        "url = 'https://drive.google.com/drive/folders/1Z7R1g3CJjXe8NVXN7FLzyW6Mx5Vbrp-s?usp=sharing'\n",
        "\n",
        "gdown.download_folder(url)"
      ],
      "metadata": {
        "colab": {
          "base_uri": "https://localhost:8080/"
        },
        "id": "oDgRvP6fAr6o",
        "outputId": "e4c0b5cf-4553-4720-9a4c-8d647feaf198"
      },
      "execution_count": 3,
      "outputs": [
        {
          "output_type": "stream",
          "name": "stderr",
          "text": [
            "Retrieving folder list\n"
          ]
        },
        {
          "output_type": "stream",
          "name": "stdout",
          "text": [
            "Processing file 1Negfad4d2T2qItcuTELTvCk3T8E6gbgL Dig-MNIST.csv\n",
            "Processing file 1ga4Xk7DJO_kuL6rTyPTEvTA6VnYsvMmp test.csv\n",
            "Processing file 1JYE626LB8XETG-1So8P2Hw65HaFMNVAI train.csv\n",
            "Building directory structure completed\n"
          ]
        },
        {
          "output_type": "stream",
          "name": "stderr",
          "text": [
            "Retrieving folder list completed\n",
            "Building directory structure\n",
            "Downloading...\n",
            "From: https://drive.google.com/uc?id=1Negfad4d2T2qItcuTELTvCk3T8E6gbgL\n",
            "To: /content/kanada/Dig-MNIST.csv\n",
            "100%|██████████| 18.4M/18.4M [00:00<00:00, 65.8MB/s]\n",
            "Downloading...\n",
            "From: https://drive.google.com/uc?id=1ga4Xk7DJO_kuL6rTyPTEvTA6VnYsvMmp\n",
            "To: /content/kanada/test.csv\n",
            "100%|██████████| 8.67M/8.67M [00:00<00:00, 40.8MB/s]\n",
            "Downloading...\n",
            "From: https://drive.google.com/uc?id=1JYE626LB8XETG-1So8P2Hw65HaFMNVAI\n",
            "To: /content/kanada/train.csv\n",
            "100%|██████████| 105M/105M [00:02<00:00, 47.2MB/s] \n",
            "Download completed\n"
          ]
        },
        {
          "output_type": "execute_result",
          "data": {
            "text/plain": [
              "['/content/kanada/Dig-MNIST.csv',\n",
              " '/content/kanada/test.csv',\n",
              " '/content/kanada/train.csv']"
            ]
          },
          "metadata": {},
          "execution_count": 3
        }
      ]
    },
    {
      "cell_type": "code",
      "source": [
        "import pandas as pd\n",
        "import torch\n",
        "from torch.utils.data import Dataset, DataLoader\n",
        "import numpy as np\n",
        "import torch.nn as nn\n",
        "import torch.optim as optim"
      ],
      "metadata": {
        "id": "mD4D4aGtAxvC"
      },
      "execution_count": 4,
      "outputs": []
    },
    {
      "cell_type": "code",
      "source": [
        "class KanadaMNIST(Dataset):\n",
        "  def __init__(self,csv,transform=None,target_transform=None):\n",
        "    self.data=pd.read_csv(csv)\n",
        "    self.img_labels=self.data.iloc[:,0]\n",
        "    self.img=self.data.iloc[:,1:]\n",
        "    self.transform=transform\n",
        "    self.target=target_transform\n",
        "\n",
        "  def __len__(self):\n",
        "    return len(self.img_labels)\n",
        "\n",
        "  def __getitem__(self,idx):\n",
        "    image=self.img.iloc[idx,:].values.reshape(28,28)\n",
        "    #image=pixel_val.reshape((28,28))\n",
        "    label=self.img_labels.iloc[idx]\n",
        "    if self.transform:\n",
        "      image=self.transform(image)\n",
        "    if self.target:\n",
        "      label=self.target(label)\n",
        "    return image,label"
      ],
      "metadata": {
        "id": "GMhYsmtxAxpw"
      },
      "execution_count": 5,
      "outputs": []
    },
    {
      "cell_type": "code",
      "source": [
        "train_data=KanadaMNIST(\"/content/kanada/train.csv\")\n",
        "valid_data=KanadaMNIST(\"/content/kanada/Dig-MNIST.csv\")"
      ],
      "metadata": {
        "id": "Y-wfkIsaAxmo"
      },
      "execution_count": 6,
      "outputs": []
    },
    {
      "cell_type": "code",
      "source": [
        "batch_size=64\n",
        "train = DataLoader(train_data,batch_size=batch_size,shuffle=True)\n",
        "valid = DataLoader(valid_data,batch_size=batch_size,shuffle=True)"
      ],
      "metadata": {
        "id": "CArEPYmqAxjg"
      },
      "execution_count": 7,
      "outputs": []
    },
    {
      "cell_type": "code",
      "source": [
        "next(iter(train))[0].shape"
      ],
      "metadata": {
        "colab": {
          "base_uri": "https://localhost:8080/"
        },
        "id": "d9rYYZF6JJQ9",
        "outputId": "2c83258e-b963-40e6-aab9-50c65da18c33"
      },
      "execution_count": 8,
      "outputs": [
        {
          "output_type": "execute_result",
          "data": {
            "text/plain": [
              "torch.Size([64, 28, 28])"
            ]
          },
          "metadata": {},
          "execution_count": 8
        }
      ]
    },
    {
      "cell_type": "code",
      "source": [
        "import matplotlib.pyplot as plt\n",
        "train_features, train_labels = next(iter(train))\n",
        "print(f\"Feature batch shape: {train_features.size()}\")\n",
        "print(f\"Labels batch shape: {train_labels.size()}\")\n",
        "\n",
        "# Reshape the feature tensor to 2D (28x28)\n",
        "img = np.array(train_features[0])\n",
        "\n",
        "label = train_labels[0].item()  # Convert tensor to Python scalar\n",
        "plt.imshow(img, cmap=\"gray\")\n",
        "plt.show()\n",
        "print(f\"Label: {label}\")"
      ],
      "metadata": {
        "colab": {
          "base_uri": "https://localhost:8080/",
          "height": 482
        },
        "id": "YtJy34_GNx87",
        "outputId": "048963ab-9851-446c-efa6-82a41652f418"
      },
      "execution_count": 9,
      "outputs": [
        {
          "output_type": "stream",
          "name": "stdout",
          "text": [
            "Feature batch shape: torch.Size([64, 28, 28])\n",
            "Labels batch shape: torch.Size([64])\n"
          ]
        },
        {
          "output_type": "display_data",
          "data": {
            "text/plain": [
              "<Figure size 640x480 with 1 Axes>"
            ],
            "image/png": "[encoded data removed]"
          },
          "metadata": {}
        },
        {
          "output_type": "stream",
          "name": "stdout",
          "text": [
            "Label: 0\n"
          ]
        }
      ]
    },
    {
      "cell_type": "code",
      "source": [
        "class KanadaCNNnet(nn.Module):\n",
        "  def __init__(self):\n",
        "    super(KanadaCNNnet,self).__init__()\n",
        "    self.conv1=nn.Sequential(\n",
        "        nn.Conv2d(1,28,5,stride=1),\n",
        "        nn.ReLU(),\n",
        "        nn.MaxPool2d(2),\n",
        "        #nn.BatchNorm2d(num_features=10)\n",
        "    )\n",
        "    self.conv2=nn.Sequential(\n",
        "        nn.Conv2d(28,16,5,stride=1),\n",
        "        nn.ReLU(),\n",
        "        nn.MaxPool2d(2),\n",
        "        #nn.BatchNorm2d(num_features=10)\n",
        "    )\n",
        "    self.fc1=nn.Sequential(\n",
        "        nn.Flatten(),\n",
        "        nn.Linear(256,1024),\n",
        "        nn.Linear(1024,10)\n",
        "    )\n",
        "  def forward(self,x):\n",
        "      x=x.float()\n",
        "      x=self.conv1(x)\n",
        "\n",
        "      x=self.conv2(x)\n",
        "      x=self.fc1(x)\n",
        "      return x"
      ],
      "metadata": {
        "id": "_0Ur0M7YAxdw"
      },
      "execution_count": 10,
      "outputs": []
    },
    {
      "cell_type": "code",
      "source": [
        "lr = 1e-4\n",
        "num_epochs = 10"
      ],
      "metadata": {
        "id": "VN6jVwU4Hxmu"
      },
      "execution_count": 11,
      "outputs": []
    },
    {
      "cell_type": "code",
      "source": [
        "device=(\"cuda\" if torch.cuda.is_available() else \"cpu\")"
      ],
      "metadata": {
        "id": "vjZzfmBPH4_V"
      },
      "execution_count": 12,
      "outputs": []
    },
    {
      "cell_type": "code",
      "source": [
        "model=KanadaCNNnet()\n",
        "model.to(device)"
      ],
      "metadata": {
        "colab": {
          "base_uri": "https://localhost:8080/"
        },
        "id": "RFHjPXiZIHAt",
        "outputId": "cefb3b9c-811e-4d89-eb05-33cf6da4e1fa"
      },
      "execution_count": 13,
      "outputs": [
        {
          "output_type": "execute_result",
          "data": {
            "text/plain": [
              "KanadaCNNnet(\n",
              "  (conv1): Sequential(\n",
              "    (0): Conv2d(1, 28, kernel_size=(5, 5), stride=(1, 1))\n",
              "    (1): ReLU()\n",
              "    (2): MaxPool2d(kernel_size=2, stride=2, padding=0, dilation=1, ceil_mode=False)\n",
              "  )\n",
              "  (conv2): Sequential(\n",
              "    (0): Conv2d(28, 16, kernel_size=(5, 5), stride=(1, 1))\n",
              "    (1): ReLU()\n",
              "    (2): MaxPool2d(kernel_size=2, stride=2, padding=0, dilation=1, ceil_mode=False)\n",
              "  )\n",
              "  (fc1): Sequential(\n",
              "    (0): Flatten(start_dim=1, end_dim=-1)\n",
              "    (1): Linear(in_features=256, out_features=1024, bias=True)\n",
              "    (2): Linear(in_features=1024, out_features=10, bias=True)\n",
              "  )\n",
              ")"
            ]
          },
          "metadata": {},
          "execution_count": 13
        }
      ]
    },
    {
      "cell_type": "code",
      "source": [
        "loss_fn=nn.CrossEntropyLoss()\n",
        "optimizer=optim.SGD(model.parameters(),lr=lr)"
      ],
      "metadata": {
        "id": "H05kFAR8IG61"
      },
      "execution_count": 14,
      "outputs": []
    },
    {
      "cell_type": "code",
      "source": [
        "for epochs in range(num_epochs):\n",
        "  running_loss = 0.0\n",
        "  num_correct = 0\n",
        "  for inputs, labels in train:\n",
        "    inputs=inputs.unsqueeze(dim=1)\n",
        "    optimizer.zero_grad()\n",
        "    outputs = model(inputs.to(device))\n",
        "    labels=labels.to(device)\n",
        "    loss=loss_fn(outputs,labels)\n",
        "    loss.backward()\n",
        "    running_loss+=loss.item()\n",
        "    optimizer.step()\n",
        "    _, idx = outputs.max(dim=1)\n",
        "    num_correct += (idx == labels).sum().item()\n",
        "  print('Loss: {} Accuracy: {}'.format(running_loss/len(train),num_correct/len(train)))\n"
      ],
      "metadata": {
        "colab": {
          "base_uri": "https://localhost:8080/"
        },
        "id": "5AFLvuuJIG0N",
        "outputId": "f24cc12b-7fe4-43ab-a126-de16a3286058"
      },
      "execution_count": 15,
      "outputs": [
        {
          "output_type": "stream",
          "name": "stdout",
          "text": [
            "Loss: 0.48976041546174837 Accuracy: 55.75692963752665\n",
            "Loss: 0.15896696221135032 Accuracy: 60.86460554371002\n",
            "Loss: 0.11929216905971611 Accuracy: 61.67910447761194\n",
            "Loss: 0.09944525145258365 Accuracy: 62.0863539445629\n",
            "Loss: 0.086105606638328 Accuracy: 62.3134328358209\n",
            "Loss: 0.07671457489799541 Accuracy: 62.47974413646055\n",
            "Loss: 0.0692886377392865 Accuracy: 62.637526652452024\n",
            "Loss: 0.06386309643901551 Accuracy: 62.72921108742004\n",
            "Loss: 0.05921947545206138 Accuracy: 62.795309168443495\n",
            "Loss: 0.05509950297024312 Accuracy: 62.93603411513859\n"
          ]
        }
      ]
    }
  ]
}