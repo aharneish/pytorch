{
 "cells": [
  {
   "cell_type": "code",
   "execution_count": 26,
   "id": "943b6d47",
   "metadata": {},
   "outputs": [],
   "source": [
    "import numpy as np\n",
    "import matplotlib.pyplot as plt"
   ]
  },
  {
   "cell_type": "code",
   "execution_count": 47,
   "id": "a2efc67e",
   "metadata": {},
   "outputs": [],
   "source": [
    "def perceptron(X,y,lr=0.01,epochs=100):\n",
    "    samples,features=X.shape\n",
    "    weights=np.zeros(features+1)\n",
    "    errors=[]\n",
    "    for _ in range(epochs):\n",
    "        total_error=0\n",
    "        for i in range(samples):\n",
    "            # Add bias term\n",
    "            inputs=np.append(X[i], 1)\n",
    "            target=y[i]\n",
    "            prediction=predict(inputs, weights)\n",
    "            print(f\"iteration {i} true labels {target} prediction {prediction}\")\n",
    "            error=target-prediction\n",
    "            weights+=lr*error*inputs\n",
    "            total_error+=int(error!=0)\n",
    "        errors.append(total_error)\n",
    "    return weights,errors"
   ]
  },
  {
   "cell_type": "code",
   "execution_count": 30,
   "id": "b16a3dff",
   "metadata": {},
   "outputs": [],
   "source": [
    "def predict(inputs,weights):\n",
    "    summation=np.dot(inputs,weights)\n",
    "    return np.sign(summation)"
   ]
  },
  {
   "cell_type": "code",
   "execution_count": 31,
   "id": "5b256045",
   "metadata": {},
   "outputs": [],
   "source": [
    "X=np.array([[0,0],[0,1],[1,0],[1,1]])\n",
    "y=np.array([0,0,0,1])"
   ]
  },
  {
   "cell_type": "code",
   "execution_count": 48,
   "id": "ece98b71",
   "metadata": {},
   "outputs": [
    {
     "name": "stdout",
     "output_type": "stream",
     "text": [
      "iteration 0 true labels 0 prediction 0.0\n",
      "iteration 1 true labels 0 prediction 0.0\n",
      "iteration 2 true labels 0 prediction 0.0\n",
      "iteration 3 true labels 1 prediction 0.0\n",
      "iteration 0 true labels 0 prediction 1.0\n",
      "iteration 1 true labels 0 prediction 1.0\n",
      "iteration 2 true labels 0 prediction 0.0\n",
      "iteration 3 true labels 1 prediction 0.0\n",
      "iteration 0 true labels 0 prediction 0.0\n",
      "iteration 1 true labels 0 prediction 1.0\n",
      "iteration 2 true labels 0 prediction 1.0\n",
      "iteration 3 true labels 1 prediction -1.0\n",
      "iteration 0 true labels 0 prediction 0.0\n",
      "iteration 1 true labels 0 prediction 1.0\n",
      "iteration 2 true labels 0 prediction 1.0\n",
      "iteration 3 true labels 1 prediction 1.0\n",
      "iteration 0 true labels 0 prediction -1.0\n",
      "iteration 1 true labels 0 prediction 0.0\n",
      "iteration 2 true labels 0 prediction 1.0\n",
      "iteration 3 true labels 1 prediction -1.0\n",
      "iteration 0 true labels 0 prediction 0.0\n",
      "iteration 1 true labels 0 prediction 1.0\n",
      "iteration 2 true labels 0 prediction 1.0\n",
      "iteration 3 true labels 1 prediction 1.0\n",
      "iteration 0 true labels 0 prediction -1.0\n",
      "iteration 1 true labels 0 prediction 1.0\n",
      "iteration 2 true labels 0 prediction -1.0\n",
      "iteration 3 true labels 1 prediction 1.0\n",
      "iteration 0 true labels 0 prediction -1.0\n",
      "iteration 1 true labels 0 prediction 1.0\n",
      "iteration 2 true labels 0 prediction 1.0\n",
      "iteration 3 true labels 1 prediction -1.0\n",
      "iteration 0 true labels 0 prediction 0.0\n",
      "iteration 1 true labels 0 prediction 1.0\n",
      "iteration 2 true labels 0 prediction 1.0\n",
      "iteration 3 true labels 1 prediction 1.0\n",
      "iteration 0 true labels 0 prediction -1.0\n",
      "iteration 1 true labels 0 prediction -1.0\n",
      "iteration 2 true labels 0 prediction 1.0\n",
      "iteration 3 true labels 1 prediction 1.0\n"
     ]
    }
   ],
   "source": [
    "weights,errors=perceptron(X,y,epochs=10)"
   ]
  },
  {
   "cell_type": "code",
   "execution_count": 49,
   "id": "acd20dbc",
   "metadata": {},
   "outputs": [
    {
     "data": {
      "image/png": "[encoded data removed]",
      "text/plain": [
       "<Figure size 640x480 with 1 Axes>"
      ]
     },
     "metadata": {},
     "output_type": "display_data"
    }
   ],
   "source": [
    "# Plotting the points\n",
    "plt.scatter(X[:, 0], X[:, 1], c=y, cmap='viridis')\n",
    "plt.xlabel('X1')\n",
    "plt.ylabel('X2')\n",
    "\n",
    "# Plotting the decision boundary\n",
    "x1 = np.linspace(-0.5, 1.5, 100)\n",
    "x2 = -(weights[0] * x1 + weights[2]) / weights[1]\n",
    "plt.plot(x1, x2, color='red')\n",
    "\n",
    "plt.ylim([-0.5, 1.5])\n",
    "plt.xlim([-0.5, 1.5])\n",
    "plt.show()"
   ]
  },
  {
   "cell_type": "code",
   "execution_count": 50,
   "id": "e716f427",
   "metadata": {},
   "outputs": [
    {
     "name": "stdout",
     "output_type": "stream",
     "text": [
      "[ 0.02  0.02 -0.01]\n"
     ]
    }
   ],
   "source": [
    "print(weights)"
   ]
  },
  {
   "cell_type": "code",
   "execution_count": 51,
   "id": "6879daba",
   "metadata": {},
   "outputs": [
    {
     "name": "stdout",
     "output_type": "stream",
     "text": [
      "[1, 3, 3, 2, 3, 2, 3, 4, 2, 3]\n"
     ]
    }
   ],
   "source": [
    "print(errors)"
   ]
  }
 ],
 "metadata": {
  "kernelspec": {
   "display_name": "Python 3 (ipykernel)",
   "language": "python",
   "name": "python3"
  },
  "language_info": {
   "codemirror_mode": {
    "name": "ipython",
    "version": 3
   },
   "file_extension": ".py",
   "mimetype": "text/x-python",
   "name": "python",
   "nbconvert_exporter": "python",
   "pygments_lexer": "ipython3",
   "version": "3.10.9"
  }
 },
 "nbformat": 4,
 "nbformat_minor": 5
}
