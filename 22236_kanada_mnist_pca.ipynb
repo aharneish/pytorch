{
  "nbformat": 4,
  "nbformat_minor": 0,
  "metadata": {
    "colab": {
      "provenance": [],
      "gpuType": "T4"
    },
    "kernelspec": {
      "name": "python3",
      "display_name": "Python 3"
    },
    "language_info": {
      "name": "python"
    },
    "accelerator": "GPU"
  },
  "cells": [
    {
      "cell_type": "code",
      "execution_count": null,
      "metadata": {
        "colab": {
          "base_uri": "https://localhost:8080/"
        },
        "id": "l7c61jMnvKdx",
        "outputId": "dbe4cb3c-8a9c-4afc-d44d-9c039eaffd9b"
      },
      "outputs": [
        {
          "output_type": "stream",
          "name": "stdout",
          "text": [
            "Found existing installation: gdown 4.6.6\n",
            "Uninstalling gdown-4.6.6:\n",
            "  Successfully uninstalled gdown-4.6.6\n",
            "Collecting gdown\n",
            "  Downloading gdown-4.7.1-py3-none-any.whl (15 kB)\n",
            "Requirement already satisfied: filelock in /usr/local/lib/python3.10/dist-packages (from gdown) (3.12.2)\n",
            "Requirement already satisfied: requests[socks] in /usr/local/lib/python3.10/dist-packages (from gdown) (2.31.0)\n",
            "Requirement already satisfied: six in /usr/local/lib/python3.10/dist-packages (from gdown) (1.16.0)\n",
            "Requirement already satisfied: tqdm in /usr/local/lib/python3.10/dist-packages (from gdown) (4.66.1)\n",
            "Requirement already satisfied: beautifulsoup4 in /usr/local/lib/python3.10/dist-packages (from gdown) (4.11.2)\n",
            "Requirement already satisfied: soupsieve>1.2 in /usr/local/lib/python3.10/dist-packages (from beautifulsoup4->gdown) (2.4.1)\n",
            "Requirement already satisfied: charset-normalizer<4,>=2 in /usr/local/lib/python3.10/dist-packages (from requests[socks]->gdown) (3.2.0)\n",
            "Requirement already satisfied: idna<4,>=2.5 in /usr/local/lib/python3.10/dist-packages (from requests[socks]->gdown) (3.4)\n",
            "Requirement already satisfied: urllib3<3,>=1.21.1 in /usr/local/lib/python3.10/dist-packages (from requests[socks]->gdown) (2.0.4)\n",
            "Requirement already satisfied: certifi>=2017.4.17 in /usr/local/lib/python3.10/dist-packages (from requests[socks]->gdown) (2023.7.22)\n",
            "Requirement already satisfied: PySocks!=1.5.7,>=1.5.6 in /usr/local/lib/python3.10/dist-packages (from requests[socks]->gdown) (1.7.1)\n",
            "Installing collected packages: gdown\n",
            "Successfully installed gdown-4.7.1\n"
          ]
        }
      ],
      "source": [
        "!pip uninstall --yes gdown # After running this line, restart Colab runtime.\n",
        "!pip install gdown -U --no-cache-dir"
      ]
    },
    {
      "cell_type": "code",
      "source": [
        "import gdown\n",
        "\n",
        "url = 'https://drive.google.com/drive/folders/1Z7R1g3CJjXe8NVXN7FLzyW6Mx5Vbrp-s?usp=sharing'\n",
        "\n",
        "gdown.download_folder(url)"
      ],
      "metadata": {
        "colab": {
          "base_uri": "https://localhost:8080/"
        },
        "id": "4TFv8NcrvdaI",
        "outputId": "53a34fba-c6ed-4e80-a954-9774a6028fec"
      },
      "execution_count": null,
      "outputs": [
        {
          "output_type": "stream",
          "name": "stderr",
          "text": [
            "Retrieving folder list\n"
          ]
        },
        {
          "output_type": "stream",
          "name": "stdout",
          "text": [
            "Processing file 1Negfad4d2T2qItcuTELTvCk3T8E6gbgL Dig-MNIST.csv\n",
            "Processing file 1ga4Xk7DJO_kuL6rTyPTEvTA6VnYsvMmp test.csv\n",
            "Processing file 1JYE626LB8XETG-1So8P2Hw65HaFMNVAI train.csv\n",
            "Building directory structure completed\n"
          ]
        },
        {
          "output_type": "stream",
          "name": "stderr",
          "text": [
            "Retrieving folder list completed\n",
            "Building directory structure\n",
            "Downloading...\n",
            "From: https://drive.google.com/uc?id=1Negfad4d2T2qItcuTELTvCk3T8E6gbgL\n",
            "To: /content/kanada/Dig-MNIST.csv\n",
            "100%|██████████| 18.4M/18.4M [00:00<00:00, 33.1MB/s]\n",
            "Downloading...\n",
            "From: https://drive.google.com/uc?id=1ga4Xk7DJO_kuL6rTyPTEvTA6VnYsvMmp\n",
            "To: /content/kanada/test.csv\n",
            "100%|██████████| 8.67M/8.67M [00:00<00:00, 63.4MB/s]\n",
            "Downloading...\n",
            "From: https://drive.google.com/uc?id=1JYE626LB8XETG-1So8P2Hw65HaFMNVAI\n",
            "To: /content/kanada/train.csv\n",
            "100%|██████████| 105M/105M [00:01<00:00, 54.7MB/s] \n",
            "Download completed\n"
          ]
        },
        {
          "output_type": "execute_result",
          "data": {
            "text/plain": [
              "['/content/kanada/Dig-MNIST.csv',\n",
              " '/content/kanada/test.csv',\n",
              " '/content/kanada/train.csv']"
            ]
          },
          "metadata": {},
          "execution_count": 2
        }
      ]
    },
    {
      "cell_type": "code",
      "source": [
        "from sklearn.decomposition import PCA\n",
        "import pandas as pd\n",
        "import matplotlib.pyplot as plt\n",
        "import numpy as np"
      ],
      "metadata": {
        "id": "R4x0A5fhvfyn"
      },
      "execution_count": null,
      "outputs": []
    },
    {
      "cell_type": "code",
      "source": [
        "train_df=pd.read_csv(\"/content/kanada/train.csv\")\n",
        "test_df=pd.read_csv(\"/content/kanada/test.csv\")"
      ],
      "metadata": {
        "id": "Ld7gKIFhvkOg"
      },
      "execution_count": null,
      "outputs": []
    },
    {
      "cell_type": "code",
      "source": [
        "names=train_df.drop('label',axis=1).columns\n",
        "names"
      ],
      "metadata": {
        "colab": {
          "base_uri": "https://localhost:8080/"
        },
        "id": "0Zdg_k7Hx36A",
        "outputId": "14a36cf0-6a90-4a16-9e84-ddd08808d0f7"
      },
      "execution_count": null,
      "outputs": [
        {
          "output_type": "execute_result",
          "data": {
            "text/plain": [
              "Index(['pixel0', 'pixel1', 'pixel2', 'pixel3', 'pixel4', 'pixel5', 'pixel6',\n",
              "       'pixel7', 'pixel8', 'pixel9',\n",
              "       ...\n",
              "       'pixel774', 'pixel775', 'pixel776', 'pixel777', 'pixel778', 'pixel779',\n",
              "       'pixel780', 'pixel781', 'pixel782', 'pixel783'],\n",
              "      dtype='object', length=784)"
            ]
          },
          "metadata": {},
          "execution_count": 5
        }
      ]
    },
    {
      "cell_type": "code",
      "source": [
        "train_df.head()"
      ],
      "metadata": {
        "colab": {
          "base_uri": "https://localhost:8080/",
          "height": 236
        },
        "id": "0r8HMXrr5OEf",
        "outputId": "d8901eef-d20f-432c-d41f-0b83ccca9546"
      },
      "execution_count": null,
      "outputs": [
        {
          "output_type": "execute_result",
          "data": {
            "text/plain": [
              "   label  pixel0  pixel1  pixel2  pixel3  pixel4  pixel5  pixel6  pixel7  \\\n",
              "0      0       0       0       0       0       0       0       0       0   \n",
              "1      1       0       0       0       0       0       0       0       0   \n",
              "2      2       0       0       0       0       0       0       0       0   \n",
              "3      3       0       0       0       0       0       0       0       0   \n",
              "4      4       0       0       0       0       0       0       0       0   \n",
              "\n",
              "   pixel8  ...  pixel774  pixel775  pixel776  pixel777  pixel778  pixel779  \\\n",
              "0       0  ...         0         0         0         0         0         0   \n",
              "1       0  ...         0         0         0         0         0         0   \n",
              "2       0  ...         0         0         0         0         0         0   \n",
              "3       0  ...         0         0         0         0         0         0   \n",
              "4       0  ...         0         0         0         0         0         0   \n",
              "\n",
              "   pixel780  pixel781  pixel782  pixel783  \n",
              "0         0         0         0         0  \n",
              "1         0         0         0         0  \n",
              "2         0         0         0         0  \n",
              "3         0         0         0         0  \n",
              "4         0         0         0         0  \n",
              "\n",
              "[5 rows x 785 columns]"
            ],
            "text/html": [
              "\n",
              "  <div id=\"df-c8b84940-fa0f-4769-958b-8a39afff22e1\" class=\"colab-df-container\">\n",
              "    <div>\n",
              "<style scoped>\n",
              "    .dataframe tbody tr th:only-of-type {\n",
              "        vertical-align: middle;\n",
              "    }\n",
              "\n",
              "    .dataframe tbody tr th {\n",
              "        vertical-align: top;\n",
              "    }\n",
              "\n",
              "    .dataframe thead th {\n",
              "        text-align: right;\n",
              "    }\n",
              "</style>\n",
              "<table border=\"1\" class=\"dataframe\">\n",
              "  <thead>\n",
              "    <tr style=\"text-align: right;\">\n",
              "      <th></th>\n",
              "      <th>label</th>\n",
              "      <th>pixel0</th>\n",
              "      <th>pixel1</th>\n",
              "      <th>pixel2</th>\n",
              "      <th>pixel3</th>\n",
              "      <th>pixel4</th>\n",
              "      <th>pixel5</th>\n",
              "      <th>pixel6</th>\n",
              "      <th>pixel7</th>\n",
              "      <th>pixel8</th>\n",
              "      <th>...</th>\n",
              "      <th>pixel774</th>\n",
              "      <th>pixel775</th>\n",
              "      <th>pixel776</th>\n",
              "      <th>pixel777</th>\n",
              "      <th>pixel778</th>\n",
              "      <th>pixel779</th>\n",
              "      <th>pixel780</th>\n",
              "      <th>pixel781</th>\n",
              "      <th>pixel782</th>\n",
              "      <th>pixel783</th>\n",
              "    </tr>\n",
              "  </thead>\n",
              "  <tbody>\n",
              "    <tr>\n",
              "      <th>0</th>\n",
              "      <td>0</td>\n",
              "      <td>0</td>\n",
              "      <td>0</td>\n",
              "      <td>0</td>\n",
              "      <td>0</td>\n",
              "      <td>0</td>\n",
              "      <td>0</td>\n",
              "      <td>0</td>\n",
              "      <td>0</td>\n",
              "      <td>0</td>\n",
              "      <td>...</td>\n",
              "      <td>0</td>\n",
              "      <td>0</td>\n",
              "      <td>0</td>\n",
              "      <td>0</td>\n",
              "      <td>0</td>\n",
              "      <td>0</td>\n",
              "      <td>0</td>\n",
              "      <td>0</td>\n",
              "      <td>0</td>\n",
              "      <td>0</td>\n",
              "    </tr>\n",
              "    <tr>\n",
              "      <th>1</th>\n",
              "      <td>1</td>\n",
              "      <td>0</td>\n",
              "      <td>0</td>\n",
              "      <td>0</td>\n",
              "      <td>0</td>\n",
              "      <td>0</td>\n",
              "      <td>0</td>\n",
              "      <td>0</td>\n",
              "      <td>0</td>\n",
              "      <td>0</td>\n",
              "      <td>...</td>\n",
              "      <td>0</td>\n",
              "      <td>0</td>\n",
              "      <td>0</td>\n",
              "      <td>0</td>\n",
              "      <td>0</td>\n",
              "      <td>0</td>\n",
              "      <td>0</td>\n",
              "      <td>0</td>\n",
              "      <td>0</td>\n",
              "      <td>0</td>\n",
              "    </tr>\n",
              "    <tr>\n",
              "      <th>2</th>\n",
              "      <td>2</td>\n",
              "      <td>0</td>\n",
              "      <td>0</td>\n",
              "      <td>0</td>\n",
              "      <td>0</td>\n",
              "      <td>0</td>\n",
              "      <td>0</td>\n",
              "      <td>0</td>\n",
              "      <td>0</td>\n",
              "      <td>0</td>\n",
              "      <td>...</td>\n",
              "      <td>0</td>\n",
              "      <td>0</td>\n",
              "      <td>0</td>\n",
              "      <td>0</td>\n",
              "      <td>0</td>\n",
              "      <td>0</td>\n",
              "      <td>0</td>\n",
              "      <td>0</td>\n",
              "      <td>0</td>\n",
              "      <td>0</td>\n",
              "    </tr>\n",
              "    <tr>\n",
              "      <th>3</th>\n",
              "      <td>3</td>\n",
              "      <td>0</td>\n",
              "      <td>0</td>\n",
              "      <td>0</td>\n",
              "      <td>0</td>\n",
              "      <td>0</td>\n",
              "      <td>0</td>\n",
              "      <td>0</td>\n",
              "      <td>0</td>\n",
              "      <td>0</td>\n",
              "      <td>...</td>\n",
              "      <td>0</td>\n",
              "      <td>0</td>\n",
              "      <td>0</td>\n",
              "      <td>0</td>\n",
              "      <td>0</td>\n",
              "      <td>0</td>\n",
              "      <td>0</td>\n",
              "      <td>0</td>\n",
              "      <td>0</td>\n",
              "      <td>0</td>\n",
              "    </tr>\n",
              "    <tr>\n",
              "      <th>4</th>\n",
              "      <td>4</td>\n",
              "      <td>0</td>\n",
              "      <td>0</td>\n",
              "      <td>0</td>\n",
              "      <td>0</td>\n",
              "      <td>0</td>\n",
              "      <td>0</td>\n",
              "      <td>0</td>\n",
              "      <td>0</td>\n",
              "      <td>0</td>\n",
              "      <td>...</td>\n",
              "      <td>0</td>\n",
              "      <td>0</td>\n",
              "      <td>0</td>\n",
              "      <td>0</td>\n",
              "      <td>0</td>\n",
              "      <td>0</td>\n",
              "      <td>0</td>\n",
              "      <td>0</td>\n",
              "      <td>0</td>\n",
              "      <td>0</td>\n",
              "    </tr>\n",
              "  </tbody>\n",
              "</table>\n",
              "<p>5 rows × 785 columns</p>\n",
              "</div>\n",
              "    <div class=\"colab-df-buttons\">\n",
              "\n",
              "  <div class=\"colab-df-container\">\n",
              "    <button class=\"colab-df-convert\" onclick=\"convertToInteractive('df-c8b84940-fa0f-4769-958b-8a39afff22e1')\"\n",
              "            title=\"Convert this dataframe to an interactive table.\"\n",
              "            style=\"display:none;\">\n",
              "\n",
              "  <svg xmlns=\"http://www.w3.org/2000/svg\" height=\"24px\" viewBox=\"0 -960 960 960\">\n",
              "    <path d=\"M120-120v-720h720v720H120Zm60-500h600v-160H180v160Zm220 220h160v-160H400v160Zm0 220h160v-160H400v160ZM180-400h160v-160H180v160Zm440 0h160v-160H620v160ZM180-180h160v-160H180v160Zm440 0h160v-160H620v160Z\"/>\n",
              "  </svg>\n",
              "    </button>\n",
              "\n",
              "  <style>\n",
              "    .colab-df-container {\n",
              "      display:flex;\n",
              "      gap: 12px;\n",
              "    }\n",
              "\n",
              "    .colab-df-convert {\n",
              "      background-color: #E8F0FE;\n",
              "      border: none;\n",
              "      border-radius: 50%;\n",
              "      cursor: pointer;\n",
              "      display: none;\n",
              "      fill: #1967D2;\n",
              "      height: 32px;\n",
              "      padding: 0 0 0 0;\n",
              "      width: 32px;\n",
              "    }\n",
              "\n",
              "    .colab-df-convert:hover {\n",
              "      background-color: #E2EBFA;\n",
              "      box-shadow: 0px 1px 2px rgba(60, 64, 67, 0.3), 0px 1px 3px 1px rgba(60, 64, 67, 0.15);\n",
              "      fill: #174EA6;\n",
              "    }\n",
              "\n",
              "    .colab-df-buttons div {\n",
              "      margin-bottom: 4px;\n",
              "    }\n",
              "\n",
              "    [theme=dark] .colab-df-convert {\n",
              "      background-color: #3B4455;\n",
              "      fill: #D2E3FC;\n",
              "    }\n",
              "\n",
              "    [theme=dark] .colab-df-convert:hover {\n",
              "      background-color: #434B5C;\n",
              "      box-shadow: 0px 1px 3px 1px rgba(0, 0, 0, 0.15);\n",
              "      filter: drop-shadow(0px 1px 2px rgba(0, 0, 0, 0.3));\n",
              "      fill: #FFFFFF;\n",
              "    }\n",
              "  </style>\n",
              "\n",
              "    <script>\n",
              "      const buttonEl =\n",
              "        document.querySelector('#df-c8b84940-fa0f-4769-958b-8a39afff22e1 button.colab-df-convert');\n",
              "      buttonEl.style.display =\n",
              "        google.colab.kernel.accessAllowed ? 'block' : 'none';\n",
              "\n",
              "      async function convertToInteractive(key) {\n",
              "        const element = document.querySelector('#df-c8b84940-fa0f-4769-958b-8a39afff22e1');\n",
              "        const dataTable =\n",
              "          await google.colab.kernel.invokeFunction('convertToInteractive',\n",
              "                                                    [key], {});\n",
              "        if (!dataTable) return;\n",
              "\n",
              "        const docLinkHtml = 'Like what you see? Visit the ' +\n",
              "          '<a target=\"_blank\" href=https://colab.research.google.com/notebooks/data_table.ipynb>data table notebook</a>'\n",
              "          + ' to learn more about interactive tables.';\n",
              "        element.innerHTML = '';\n",
              "        dataTable['output_type'] = 'display_data';\n",
              "        await google.colab.output.renderOutput(dataTable, element);\n",
              "        const docLink = document.createElement('div');\n",
              "        docLink.innerHTML = docLinkHtml;\n",
              "        element.appendChild(docLink);\n",
              "      }\n",
              "    </script>\n",
              "  </div>\n",
              "\n",
              "\n",
              "<div id=\"df-c146cde4-72db-4ecc-939a-eb0466cdf8a6\">\n",
              "  <button class=\"colab-df-quickchart\" onclick=\"quickchart('df-c146cde4-72db-4ecc-939a-eb0466cdf8a6')\"\n",
              "            title=\"Suggest charts.\"\n",
              "            style=\"display:none;\">\n",
              "\n",
              "<svg xmlns=\"http://www.w3.org/2000/svg\" height=\"24px\"viewBox=\"0 0 24 24\"\n",
              "     width=\"24px\">\n",
              "    <g>\n",
              "        <path d=\"M19 3H5c-1.1 0-2 .9-2 2v14c0 1.1.9 2 2 2h14c1.1 0 2-.9 2-2V5c0-1.1-.9-2-2-2zM9 17H7v-7h2v7zm4 0h-2V7h2v10zm4 0h-2v-4h2v4z\"/>\n",
              "    </g>\n",
              "</svg>\n",
              "  </button>\n",
              "\n",
              "<style>\n",
              "  .colab-df-quickchart {\n",
              "    background-color: #E8F0FE;\n",
              "    border: none;\n",
              "    border-radius: 50%;\n",
              "    cursor: pointer;\n",
              "    display: none;\n",
              "    fill: #1967D2;\n",
              "    height: 32px;\n",
              "    padding: 0 0 0 0;\n",
              "    width: 32px;\n",
              "  }\n",
              "\n",
              "  .colab-df-quickchart:hover {\n",
              "    background-color: #E2EBFA;\n",
              "    box-shadow: 0px 1px 2px rgba(60, 64, 67, 0.3), 0px 1px 3px 1px rgba(60, 64, 67, 0.15);\n",
              "    fill: #174EA6;\n",
              "  }\n",
              "\n",
              "  [theme=dark] .colab-df-quickchart {\n",
              "    background-color: #3B4455;\n",
              "    fill: #D2E3FC;\n",
              "  }\n",
              "\n",
              "  [theme=dark] .colab-df-quickchart:hover {\n",
              "    background-color: #434B5C;\n",
              "    box-shadow: 0px 1px 3px 1px rgba(0, 0, 0, 0.15);\n",
              "    filter: drop-shadow(0px 1px 2px rgba(0, 0, 0, 0.3));\n",
              "    fill: #FFFFFF;\n",
              "  }\n",
              "</style>\n",
              "\n",
              "  <script>\n",
              "    async function quickchart(key) {\n",
              "      const charts = await google.colab.kernel.invokeFunction(\n",
              "          'suggestCharts', [key], {});\n",
              "    }\n",
              "    (() => {\n",
              "      let quickchartButtonEl =\n",
              "        document.querySelector('#df-c146cde4-72db-4ecc-939a-eb0466cdf8a6 button');\n",
              "      quickchartButtonEl.style.display =\n",
              "        google.colab.kernel.accessAllowed ? 'block' : 'none';\n",
              "    })();\n",
              "  </script>\n",
              "</div>\n",
              "    </div>\n",
              "  </div>\n"
            ]
          },
          "metadata": {},
          "execution_count": 6
        }
      ]
    },
    {
      "cell_type": "code",
      "source": [
        "pca_train=PCA(n_components=4,whiten=True)\n",
        "pca_train.fit(train_df.drop('label',axis=1))"
      ],
      "metadata": {
        "colab": {
          "base_uri": "https://localhost:8080/",
          "height": 75
        },
        "id": "DkcrGvD1v_cr",
        "outputId": "02456e29-eacc-46d6-d6ab-1d160e8be213"
      },
      "execution_count": null,
      "outputs": [
        {
          "output_type": "execute_result",
          "data": {
            "text/plain": [
              "PCA(n_components=4, whiten=True)"
            ],
            "text/html": [
              "<style>#sk-container-id-1 {color: black;background-color: white;}#sk-container-id-1 pre{padding: 0;}#sk-container-id-1 div.sk-toggleable {background-color: white;}#sk-container-id-1 label.sk-toggleable__label {cursor: pointer;display: block;width: 100%;margin-bottom: 0;padding: 0.3em;box-sizing: border-box;text-align: center;}#sk-container-id-1 label.sk-toggleable__label-arrow:before {content: \"▸\";float: left;margin-right: 0.25em;color: #696969;}#sk-container-id-1 label.sk-toggleable__label-arrow:hover:before {color: black;}#sk-container-id-1 div.sk-estimator:hover label.sk-toggleable__label-arrow:before {color: black;}#sk-container-id-1 div.sk-toggleable__content {max-height: 0;max-width: 0;overflow: hidden;text-align: left;background-color: #f0f8ff;}#sk-container-id-1 div.sk-toggleable__content pre {margin: 0.2em;color: black;border-radius: 0.25em;background-color: #f0f8ff;}#sk-container-id-1 input.sk-toggleable__control:checked~div.sk-toggleable__content {max-height: 200px;max-width: 100%;overflow: auto;}#sk-container-id-1 input.sk-toggleable__control:checked~label.sk-toggleable__label-arrow:before {content: \"▾\";}#sk-container-id-1 div.sk-estimator input.sk-toggleable__control:checked~label.sk-toggleable__label {background-color: #d4ebff;}#sk-container-id-1 div.sk-label input.sk-toggleable__control:checked~label.sk-toggleable__label {background-color: #d4ebff;}#sk-container-id-1 input.sk-hidden--visually {border: 0;clip: rect(1px 1px 1px 1px);clip: rect(1px, 1px, 1px, 1px);height: 1px;margin: -1px;overflow: hidden;padding: 0;position: absolute;width: 1px;}#sk-container-id-1 div.sk-estimator {font-family: monospace;background-color: #f0f8ff;border: 1px dotted black;border-radius: 0.25em;box-sizing: border-box;margin-bottom: 0.5em;}#sk-container-id-1 div.sk-estimator:hover {background-color: #d4ebff;}#sk-container-id-1 div.sk-parallel-item::after {content: \"\";width: 100%;border-bottom: 1px solid gray;flex-grow: 1;}#sk-container-id-1 div.sk-label:hover label.sk-toggleable__label {background-color: #d4ebff;}#sk-container-id-1 div.sk-serial::before {content: \"\";position: absolute;border-left: 1px solid gray;box-sizing: border-box;top: 0;bottom: 0;left: 50%;z-index: 0;}#sk-container-id-1 div.sk-serial {display: flex;flex-direction: column;align-items: center;background-color: white;padding-right: 0.2em;padding-left: 0.2em;position: relative;}#sk-container-id-1 div.sk-item {position: relative;z-index: 1;}#sk-container-id-1 div.sk-parallel {display: flex;align-items: stretch;justify-content: center;background-color: white;position: relative;}#sk-container-id-1 div.sk-item::before, #sk-container-id-1 div.sk-parallel-item::before {content: \"\";position: absolute;border-left: 1px solid gray;box-sizing: border-box;top: 0;bottom: 0;left: 50%;z-index: -1;}#sk-container-id-1 div.sk-parallel-item {display: flex;flex-direction: column;z-index: 1;position: relative;background-color: white;}#sk-container-id-1 div.sk-parallel-item:first-child::after {align-self: flex-end;width: 50%;}#sk-container-id-1 div.sk-parallel-item:last-child::after {align-self: flex-start;width: 50%;}#sk-container-id-1 div.sk-parallel-item:only-child::after {width: 0;}#sk-container-id-1 div.sk-dashed-wrapped {border: 1px dashed gray;margin: 0 0.4em 0.5em 0.4em;box-sizing: border-box;padding-bottom: 0.4em;background-color: white;}#sk-container-id-1 div.sk-label label {font-family: monospace;font-weight: bold;display: inline-block;line-height: 1.2em;}#sk-container-id-1 div.sk-label-container {text-align: center;}#sk-container-id-1 div.sk-container {/* jupyter's `normalize.less` sets `[hidden] { display: none; }` but bootstrap.min.css set `[hidden] { display: none !important; }` so we also need the `!important` here to be able to override the default hidden behavior on the sphinx rendered scikit-learn.org. See: https://github.com/scikit-learn/scikit-learn/issues/21755 */display: inline-block !important;position: relative;}#sk-container-id-1 div.sk-text-repr-fallback {display: none;}</style><div id=\"sk-container-id-1\" class=\"sk-top-container\"><div class=\"sk-text-repr-fallback\"><pre>PCA(n_components=4, whiten=True)</pre><b>In a Jupyter environment, please rerun this cell to show the HTML representation or trust the notebook. <br />On GitHub, the HTML representation is unable to render, please try loading this page with nbviewer.org.</b></div><div class=\"sk-container\" hidden><div class=\"sk-item\"><div class=\"sk-estimator sk-toggleable\"><input class=\"sk-toggleable__control sk-hidden--visually\" id=\"sk-estimator-id-1\" type=\"checkbox\" checked><label for=\"sk-estimator-id-1\" class=\"sk-toggleable__label sk-toggleable__label-arrow\">PCA</label><div class=\"sk-toggleable__content\"><pre>PCA(n_components=4, whiten=True)</pre></div></div></div></div></div>"
            ]
          },
          "metadata": {},
          "execution_count": 7
        }
      ]
    },
    {
      "cell_type": "code",
      "source": [
        "transformed=pca_train.transform(train_df.drop('label',axis=1))\n",
        "pd_transform=pd.DataFrame(transformed)\n",
        "pd_transform"
      ],
      "metadata": {
        "colab": {
          "base_uri": "https://localhost:8080/",
          "height": 424
        },
        "id": "uxhBwnon1B1O",
        "outputId": "d71ea4f9-514c-4e17-d4be-ad6f41fc1428"
      },
      "execution_count": null,
      "outputs": [
        {
          "output_type": "execute_result",
          "data": {
            "text/plain": [
              "              0         1         2         3\n",
              "0      1.369109 -0.722036  0.089548 -1.080358\n",
              "1      0.677439 -0.264812  0.160973 -1.839627\n",
              "2     -0.965913  1.754149  1.314666 -0.511108\n",
              "3     -0.780289  0.273289 -1.261044 -0.028509\n",
              "4     -0.217992  0.009666 -1.566405  0.420695\n",
              "...         ...       ...       ...       ...\n",
              "59995 -0.478651  1.043596  2.247576  0.485599\n",
              "59996 -0.934635  0.123979  0.385449 -0.689634\n",
              "59997 -1.290992  0.016138  1.426909 -1.177582\n",
              "59998  1.751402 -0.287175  0.898961  1.544095\n",
              "59999  0.906278  0.604789  0.489312  0.635526\n",
              "\n",
              "[60000 rows x 4 columns]"
            ],
            "text/html": [
              "\n",
              "  <div id=\"df-131d5abb-b2e2-4aab-8920-58e0b6c7ade4\" class=\"colab-df-container\">\n",
              "    <div>\n",
              "<style scoped>\n",
              "    .dataframe tbody tr th:only-of-type {\n",
              "        vertical-align: middle;\n",
              "    }\n",
              "\n",
              "    .dataframe tbody tr th {\n",
              "        vertical-align: top;\n",
              "    }\n",
              "\n",
              "    .dataframe thead th {\n",
              "        text-align: right;\n",
              "    }\n",
              "</style>\n",
              "<table border=\"1\" class=\"dataframe\">\n",
              "  <thead>\n",
              "    <tr style=\"text-align: right;\">\n",
              "      <th></th>\n",
              "      <th>0</th>\n",
              "      <th>1</th>\n",
              "      <th>2</th>\n",
              "      <th>3</th>\n",
              "    </tr>\n",
              "  </thead>\n",
              "  <tbody>\n",
              "    <tr>\n",
              "      <th>0</th>\n",
              "      <td>1.369109</td>\n",
              "      <td>-0.722036</td>\n",
              "      <td>0.089548</td>\n",
              "      <td>-1.080358</td>\n",
              "    </tr>\n",
              "    <tr>\n",
              "      <th>1</th>\n",
              "      <td>0.677439</td>\n",
              "      <td>-0.264812</td>\n",
              "      <td>0.160973</td>\n",
              "      <td>-1.839627</td>\n",
              "    </tr>\n",
              "    <tr>\n",
              "      <th>2</th>\n",
              "      <td>-0.965913</td>\n",
              "      <td>1.754149</td>\n",
              "      <td>1.314666</td>\n",
              "      <td>-0.511108</td>\n",
              "    </tr>\n",
              "    <tr>\n",
              "      <th>3</th>\n",
              "      <td>-0.780289</td>\n",
              "      <td>0.273289</td>\n",
              "      <td>-1.261044</td>\n",
              "      <td>-0.028509</td>\n",
              "    </tr>\n",
              "    <tr>\n",
              "      <th>4</th>\n",
              "      <td>-0.217992</td>\n",
              "      <td>0.009666</td>\n",
              "      <td>-1.566405</td>\n",
              "      <td>0.420695</td>\n",
              "    </tr>\n",
              "    <tr>\n",
              "      <th>...</th>\n",
              "      <td>...</td>\n",
              "      <td>...</td>\n",
              "      <td>...</td>\n",
              "      <td>...</td>\n",
              "    </tr>\n",
              "    <tr>\n",
              "      <th>59995</th>\n",
              "      <td>-0.478651</td>\n",
              "      <td>1.043596</td>\n",
              "      <td>2.247576</td>\n",
              "      <td>0.485599</td>\n",
              "    </tr>\n",
              "    <tr>\n",
              "      <th>59996</th>\n",
              "      <td>-0.934635</td>\n",
              "      <td>0.123979</td>\n",
              "      <td>0.385449</td>\n",
              "      <td>-0.689634</td>\n",
              "    </tr>\n",
              "    <tr>\n",
              "      <th>59997</th>\n",
              "      <td>-1.290992</td>\n",
              "      <td>0.016138</td>\n",
              "      <td>1.426909</td>\n",
              "      <td>-1.177582</td>\n",
              "    </tr>\n",
              "    <tr>\n",
              "      <th>59998</th>\n",
              "      <td>1.751402</td>\n",
              "      <td>-0.287175</td>\n",
              "      <td>0.898961</td>\n",
              "      <td>1.544095</td>\n",
              "    </tr>\n",
              "    <tr>\n",
              "      <th>59999</th>\n",
              "      <td>0.906278</td>\n",
              "      <td>0.604789</td>\n",
              "      <td>0.489312</td>\n",
              "      <td>0.635526</td>\n",
              "    </tr>\n",
              "  </tbody>\n",
              "</table>\n",
              "<p>60000 rows × 4 columns</p>\n",
              "</div>\n",
              "    <div class=\"colab-df-buttons\">\n",
              "\n",
              "  <div class=\"colab-df-container\">\n",
              "    <button class=\"colab-df-convert\" onclick=\"convertToInteractive('df-131d5abb-b2e2-4aab-8920-58e0b6c7ade4')\"\n",
              "            title=\"Convert this dataframe to an interactive table.\"\n",
              "            style=\"display:none;\">\n",
              "\n",
              "  <svg xmlns=\"http://www.w3.org/2000/svg\" height=\"24px\" viewBox=\"0 -960 960 960\">\n",
              "    <path d=\"M120-120v-720h720v720H120Zm60-500h600v-160H180v160Zm220 220h160v-160H400v160Zm0 220h160v-160H400v160ZM180-400h160v-160H180v160Zm440 0h160v-160H620v160ZM180-180h160v-160H180v160Zm440 0h160v-160H620v160Z\"/>\n",
              "  </svg>\n",
              "    </button>\n",
              "\n",
              "  <style>\n",
              "    .colab-df-container {\n",
              "      display:flex;\n",
              "      gap: 12px;\n",
              "    }\n",
              "\n",
              "    .colab-df-convert {\n",
              "      background-color: #E8F0FE;\n",
              "      border: none;\n",
              "      border-radius: 50%;\n",
              "      cursor: pointer;\n",
              "      display: none;\n",
              "      fill: #1967D2;\n",
              "      height: 32px;\n",
              "      padding: 0 0 0 0;\n",
              "      width: 32px;\n",
              "    }\n",
              "\n",
              "    .colab-df-convert:hover {\n",
              "      background-color: #E2EBFA;\n",
              "      box-shadow: 0px 1px 2px rgba(60, 64, 67, 0.3), 0px 1px 3px 1px rgba(60, 64, 67, 0.15);\n",
              "      fill: #174EA6;\n",
              "    }\n",
              "\n",
              "    .colab-df-buttons div {\n",
              "      margin-bottom: 4px;\n",
              "    }\n",
              "\n",
              "    [theme=dark] .colab-df-convert {\n",
              "      background-color: #3B4455;\n",
              "      fill: #D2E3FC;\n",
              "    }\n",
              "\n",
              "    [theme=dark] .colab-df-convert:hover {\n",
              "      background-color: #434B5C;\n",
              "      box-shadow: 0px 1px 3px 1px rgba(0, 0, 0, 0.15);\n",
              "      filter: drop-shadow(0px 1px 2px rgba(0, 0, 0, 0.3));\n",
              "      fill: #FFFFFF;\n",
              "    }\n",
              "  </style>\n",
              "\n",
              "    <script>\n",
              "      const buttonEl =\n",
              "        document.querySelector('#df-131d5abb-b2e2-4aab-8920-58e0b6c7ade4 button.colab-df-convert');\n",
              "      buttonEl.style.display =\n",
              "        google.colab.kernel.accessAllowed ? 'block' : 'none';\n",
              "\n",
              "      async function convertToInteractive(key) {\n",
              "        const element = document.querySelector('#df-131d5abb-b2e2-4aab-8920-58e0b6c7ade4');\n",
              "        const dataTable =\n",
              "          await google.colab.kernel.invokeFunction('convertToInteractive',\n",
              "                                                    [key], {});\n",
              "        if (!dataTable) return;\n",
              "\n",
              "        const docLinkHtml = 'Like what you see? Visit the ' +\n",
              "          '<a target=\"_blank\" href=https://colab.research.google.com/notebooks/data_table.ipynb>data table notebook</a>'\n",
              "          + ' to learn more about interactive tables.';\n",
              "        element.innerHTML = '';\n",
              "        dataTable['output_type'] = 'display_data';\n",
              "        await google.colab.output.renderOutput(dataTable, element);\n",
              "        const docLink = document.createElement('div');\n",
              "        docLink.innerHTML = docLinkHtml;\n",
              "        element.appendChild(docLink);\n",
              "      }\n",
              "    </script>\n",
              "  </div>\n",
              "\n",
              "\n",
              "<div id=\"df-d3bd4749-8a10-4219-bd0a-402be8ed2d55\">\n",
              "  <button class=\"colab-df-quickchart\" onclick=\"quickchart('df-d3bd4749-8a10-4219-bd0a-402be8ed2d55')\"\n",
              "            title=\"Suggest charts.\"\n",
              "            style=\"display:none;\">\n",
              "\n",
              "<svg xmlns=\"http://www.w3.org/2000/svg\" height=\"24px\"viewBox=\"0 0 24 24\"\n",
              "     width=\"24px\">\n",
              "    <g>\n",
              "        <path d=\"M19 3H5c-1.1 0-2 .9-2 2v14c0 1.1.9 2 2 2h14c1.1 0 2-.9 2-2V5c0-1.1-.9-2-2-2zM9 17H7v-7h2v7zm4 0h-2V7h2v10zm4 0h-2v-4h2v4z\"/>\n",
              "    </g>\n",
              "</svg>\n",
              "  </button>\n",
              "\n",
              "<style>\n",
              "  .colab-df-quickchart {\n",
              "    background-color: #E8F0FE;\n",
              "    border: none;\n",
              "    border-radius: 50%;\n",
              "    cursor: pointer;\n",
              "    display: none;\n",
              "    fill: #1967D2;\n",
              "    height: 32px;\n",
              "    padding: 0 0 0 0;\n",
              "    width: 32px;\n",
              "  }\n",
              "\n",
              "  .colab-df-quickchart:hover {\n",
              "    background-color: #E2EBFA;\n",
              "    box-shadow: 0px 1px 2px rgba(60, 64, 67, 0.3), 0px 1px 3px 1px rgba(60, 64, 67, 0.15);\n",
              "    fill: #174EA6;\n",
              "  }\n",
              "\n",
              "  [theme=dark] .colab-df-quickchart {\n",
              "    background-color: #3B4455;\n",
              "    fill: #D2E3FC;\n",
              "  }\n",
              "\n",
              "  [theme=dark] .colab-df-quickchart:hover {\n",
              "    background-color: #434B5C;\n",
              "    box-shadow: 0px 1px 3px 1px rgba(0, 0, 0, 0.15);\n",
              "    filter: drop-shadow(0px 1px 2px rgba(0, 0, 0, 0.3));\n",
              "    fill: #FFFFFF;\n",
              "  }\n",
              "</style>\n",
              "\n",
              "  <script>\n",
              "    async function quickchart(key) {\n",
              "      const charts = await google.colab.kernel.invokeFunction(\n",
              "          'suggestCharts', [key], {});\n",
              "    }\n",
              "    (() => {\n",
              "      let quickchartButtonEl =\n",
              "        document.querySelector('#df-d3bd4749-8a10-4219-bd0a-402be8ed2d55 button');\n",
              "      quickchartButtonEl.style.display =\n",
              "        google.colab.kernel.accessAllowed ? 'block' : 'none';\n",
              "    })();\n",
              "  </script>\n",
              "</div>\n",
              "    </div>\n",
              "  </div>\n"
            ]
          },
          "metadata": {},
          "execution_count": 8
        }
      ]
    },
    {
      "cell_type": "code",
      "source": [
        "original_transform=pca_train.inverse_transform(transformed)\n",
        "pd_original=pd.DataFrame(original_transform)\n",
        "pd_original"
      ],
      "metadata": {
        "colab": {
          "base_uri": "https://localhost:8080/",
          "height": 617
        },
        "id": "7aG_8bDd19Uv",
        "outputId": "6c16263c-d975-4ca0-c9cd-592e0227113d"
      },
      "execution_count": null,
      "outputs": [
        {
          "output_type": "execute_result",
          "data": {
            "text/plain": [
              "                0             1             2             3             4    \\\n",
              "0     -8.433106e-15 -1.064794e-14 -2.036263e-14  7.242405e-16 -1.641097e-16   \n",
              "1      4.765442e-15 -1.572536e-14 -3.371377e-14  1.220921e-15 -3.188060e-16   \n",
              "2      5.090999e-14  1.560734e-14 -2.870838e-15  3.040194e-16  5.185649e-17   \n",
              "3     -7.333668e-15 -1.493442e-14 -4.940036e-15  2.721650e-17 -2.330941e-16   \n",
              "4     -1.761056e-14 -1.508570e-14  1.994064e-15 -2.642791e-16 -1.868928e-16   \n",
              "...             ...           ...           ...           ...           ...   \n",
              "59995  4.157925e-14  3.438903e-14  1.834039e-14 -3.561078e-16  4.353157e-16   \n",
              "59996  9.205919e-15 -1.509079e-15 -1.123396e-14  4.518993e-16 -7.340754e-17   \n",
              "59997  1.962190e-14  6.272695e-15 -1.652453e-14  7.669504e-16  1.456259e-17   \n",
              "59998 -3.107941e-15  2.467799e-14  3.166214e-14 -1.028091e-15  4.664368e-16   \n",
              "59999  1.468080e-14  1.348578e-14  1.419409e-14 -4.335483e-16  1.820327e-16   \n",
              "\n",
              "            5         6         7         8         9    ...       774  \\\n",
              "0      0.003761  0.013383 -0.002043  0.002175  0.027887  ...  0.030034   \n",
              "1      0.016203  0.053125  0.029266  0.081640  0.150030  ...  0.032642   \n",
              "2      0.037665  0.126655  0.157050  0.338805  0.513580  ...  0.016095   \n",
              "3      0.007838  0.014666  0.009464  0.030037  0.023631  ...  0.011904   \n",
              "4     -0.001857 -0.019614 -0.022938 -0.043180 -0.093182  ...  0.011088   \n",
              "...         ...       ...       ...       ...       ...  ...       ...   \n",
              "59995  0.028873  0.111389  0.164293  0.324017  0.508949  ...  0.010656   \n",
              "59996  0.021604  0.076724  0.078699  0.167273  0.268633  ...  0.016262   \n",
              "59997  0.032093  0.122728  0.127888  0.265631  0.442513  ...  0.018244   \n",
              "59998 -0.007680 -0.018275  0.025413  0.020316  0.035215  ...  0.012633   \n",
              "59999  0.006858  0.020861  0.051432  0.099916  0.143473  ...  0.015839   \n",
              "\n",
              "            775       776       777       778       779       780  781  \\\n",
              "0      0.027099  0.018098  0.033983  0.026805  0.001122  0.007823  0.0   \n",
              "1      0.019590  0.008056  0.018952  0.025410 -0.000099  0.008841  0.0   \n",
              "2      0.023864  0.019502  0.033269  0.019743  0.001767  0.001731  0.0   \n",
              "3     -0.005065 -0.006539 -0.011705 -0.003245 -0.000320  0.003779  0.0   \n",
              "4     -0.001848 -0.001684 -0.004650 -0.003166  0.000300  0.003315  0.0   \n",
              "...         ...       ...       ...       ...       ...       ...  ...   \n",
              "59995  0.040166  0.038427  0.062774  0.025775  0.003887  0.000022  0.0   \n",
              "59996  0.009067  0.003404  0.007251  0.010312  0.000199  0.004917  0.0   \n",
              "59997  0.015002  0.006525  0.014056  0.016992  0.000227  0.005763  0.0   \n",
              "59998  0.048612  0.050193  0.080366  0.027182  0.005303  0.000444  0.0   \n",
              "59999  0.034953  0.034193  0.055447  0.022249  0.003509  0.001365  0.0   \n",
              "\n",
              "            782  783  \n",
              "0     -0.000360  0.0  \n",
              "1      0.002523  0.0  \n",
              "2      0.005289  0.0  \n",
              "3      0.007350  0.0  \n",
              "4      0.005820  0.0  \n",
              "...         ...  ...  \n",
              "59995  0.000304  0.0  \n",
              "59996  0.005006  0.0  \n",
              "59997  0.004169  0.0  \n",
              "59998 -0.005090  0.0  \n",
              "59999 -0.000164  0.0  \n",
              "\n",
              "[60000 rows x 784 columns]"
            ],
            "text/html": [
              "\n",
              "  <div id=\"df-1e4ad342-2340-4f0a-84d6-b392a87306fa\" class=\"colab-df-container\">\n",
              "    <div>\n",
              "<style scoped>\n",
              "    .dataframe tbody tr th:only-of-type {\n",
              "        vertical-align: middle;\n",
              "    }\n",
              "\n",
              "    .dataframe tbody tr th {\n",
              "        vertical-align: top;\n",
              "    }\n",
              "\n",
              "    .dataframe thead th {\n",
              "        text-align: right;\n",
              "    }\n",
              "</style>\n",
              "<table border=\"1\" class=\"dataframe\">\n",
              "  <thead>\n",
              "    <tr style=\"text-align: right;\">\n",
              "      <th></th>\n",
              "      <th>0</th>\n",
              "      <th>1</th>\n",
              "      <th>2</th>\n",
              "      <th>3</th>\n",
              "      <th>4</th>\n",
              "      <th>5</th>\n",
              "      <th>6</th>\n",
              "      <th>7</th>\n",
              "      <th>8</th>\n",
              "      <th>9</th>\n",
              "      <th>...</th>\n",
              "      <th>774</th>\n",
              "      <th>775</th>\n",
              "      <th>776</th>\n",
              "      <th>777</th>\n",
              "      <th>778</th>\n",
              "      <th>779</th>\n",
              "      <th>780</th>\n",
              "      <th>781</th>\n",
              "      <th>782</th>\n",
              "      <th>783</th>\n",
              "    </tr>\n",
              "  </thead>\n",
              "  <tbody>\n",
              "    <tr>\n",
              "      <th>0</th>\n",
              "      <td>-8.433106e-15</td>\n",
              "      <td>-1.064794e-14</td>\n",
              "      <td>-2.036263e-14</td>\n",
              "      <td>7.242405e-16</td>\n",
              "      <td>-1.641097e-16</td>\n",
              "      <td>0.003761</td>\n",
              "      <td>0.013383</td>\n",
              "      <td>-0.002043</td>\n",
              "      <td>0.002175</td>\n",
              "      <td>0.027887</td>\n",
              "      <td>...</td>\n",
              "      <td>0.030034</td>\n",
              "      <td>0.027099</td>\n",
              "      <td>0.018098</td>\n",
              "      <td>0.033983</td>\n",
              "      <td>0.026805</td>\n",
              "      <td>0.001122</td>\n",
              "      <td>0.007823</td>\n",
              "      <td>0.0</td>\n",
              "      <td>-0.000360</td>\n",
              "      <td>0.0</td>\n",
              "    </tr>\n",
              "    <tr>\n",
              "      <th>1</th>\n",
              "      <td>4.765442e-15</td>\n",
              "      <td>-1.572536e-14</td>\n",
              "      <td>-3.371377e-14</td>\n",
              "      <td>1.220921e-15</td>\n",
              "      <td>-3.188060e-16</td>\n",
              "      <td>0.016203</td>\n",
              "      <td>0.053125</td>\n",
              "      <td>0.029266</td>\n",
              "      <td>0.081640</td>\n",
              "      <td>0.150030</td>\n",
              "      <td>...</td>\n",
              "      <td>0.032642</td>\n",
              "      <td>0.019590</td>\n",
              "      <td>0.008056</td>\n",
              "      <td>0.018952</td>\n",
              "      <td>0.025410</td>\n",
              "      <td>-0.000099</td>\n",
              "      <td>0.008841</td>\n",
              "      <td>0.0</td>\n",
              "      <td>0.002523</td>\n",
              "      <td>0.0</td>\n",
              "    </tr>\n",
              "    <tr>\n",
              "      <th>2</th>\n",
              "      <td>5.090999e-14</td>\n",
              "      <td>1.560734e-14</td>\n",
              "      <td>-2.870838e-15</td>\n",
              "      <td>3.040194e-16</td>\n",
              "      <td>5.185649e-17</td>\n",
              "      <td>0.037665</td>\n",
              "      <td>0.126655</td>\n",
              "      <td>0.157050</td>\n",
              "      <td>0.338805</td>\n",
              "      <td>0.513580</td>\n",
              "      <td>...</td>\n",
              "      <td>0.016095</td>\n",
              "      <td>0.023864</td>\n",
              "      <td>0.019502</td>\n",
              "      <td>0.033269</td>\n",
              "      <td>0.019743</td>\n",
              "      <td>0.001767</td>\n",
              "      <td>0.001731</td>\n",
              "      <td>0.0</td>\n",
              "      <td>0.005289</td>\n",
              "      <td>0.0</td>\n",
              "    </tr>\n",
              "    <tr>\n",
              "      <th>3</th>\n",
              "      <td>-7.333668e-15</td>\n",
              "      <td>-1.493442e-14</td>\n",
              "      <td>-4.940036e-15</td>\n",
              "      <td>2.721650e-17</td>\n",
              "      <td>-2.330941e-16</td>\n",
              "      <td>0.007838</td>\n",
              "      <td>0.014666</td>\n",
              "      <td>0.009464</td>\n",
              "      <td>0.030037</td>\n",
              "      <td>0.023631</td>\n",
              "      <td>...</td>\n",
              "      <td>0.011904</td>\n",
              "      <td>-0.005065</td>\n",
              "      <td>-0.006539</td>\n",
              "      <td>-0.011705</td>\n",
              "      <td>-0.003245</td>\n",
              "      <td>-0.000320</td>\n",
              "      <td>0.003779</td>\n",
              "      <td>0.0</td>\n",
              "      <td>0.007350</td>\n",
              "      <td>0.0</td>\n",
              "    </tr>\n",
              "    <tr>\n",
              "      <th>4</th>\n",
              "      <td>-1.761056e-14</td>\n",
              "      <td>-1.508570e-14</td>\n",
              "      <td>1.994064e-15</td>\n",
              "      <td>-2.642791e-16</td>\n",
              "      <td>-1.868928e-16</td>\n",
              "      <td>-0.001857</td>\n",
              "      <td>-0.019614</td>\n",
              "      <td>-0.022938</td>\n",
              "      <td>-0.043180</td>\n",
              "      <td>-0.093182</td>\n",
              "      <td>...</td>\n",
              "      <td>0.011088</td>\n",
              "      <td>-0.001848</td>\n",
              "      <td>-0.001684</td>\n",
              "      <td>-0.004650</td>\n",
              "      <td>-0.003166</td>\n",
              "      <td>0.000300</td>\n",
              "      <td>0.003315</td>\n",
              "      <td>0.0</td>\n",
              "      <td>0.005820</td>\n",
              "      <td>0.0</td>\n",
              "    </tr>\n",
              "    <tr>\n",
              "      <th>...</th>\n",
              "      <td>...</td>\n",
              "      <td>...</td>\n",
              "      <td>...</td>\n",
              "      <td>...</td>\n",
              "      <td>...</td>\n",
              "      <td>...</td>\n",
              "      <td>...</td>\n",
              "      <td>...</td>\n",
              "      <td>...</td>\n",
              "      <td>...</td>\n",
              "      <td>...</td>\n",
              "      <td>...</td>\n",
              "      <td>...</td>\n",
              "      <td>...</td>\n",
              "      <td>...</td>\n",
              "      <td>...</td>\n",
              "      <td>...</td>\n",
              "      <td>...</td>\n",
              "      <td>...</td>\n",
              "      <td>...</td>\n",
              "      <td>...</td>\n",
              "    </tr>\n",
              "    <tr>\n",
              "      <th>59995</th>\n",
              "      <td>4.157925e-14</td>\n",
              "      <td>3.438903e-14</td>\n",
              "      <td>1.834039e-14</td>\n",
              "      <td>-3.561078e-16</td>\n",
              "      <td>4.353157e-16</td>\n",
              "      <td>0.028873</td>\n",
              "      <td>0.111389</td>\n",
              "      <td>0.164293</td>\n",
              "      <td>0.324017</td>\n",
              "      <td>0.508949</td>\n",
              "      <td>...</td>\n",
              "      <td>0.010656</td>\n",
              "      <td>0.040166</td>\n",
              "      <td>0.038427</td>\n",
              "      <td>0.062774</td>\n",
              "      <td>0.025775</td>\n",
              "      <td>0.003887</td>\n",
              "      <td>0.000022</td>\n",
              "      <td>0.0</td>\n",
              "      <td>0.000304</td>\n",
              "      <td>0.0</td>\n",
              "    </tr>\n",
              "    <tr>\n",
              "      <th>59996</th>\n",
              "      <td>9.205919e-15</td>\n",
              "      <td>-1.509079e-15</td>\n",
              "      <td>-1.123396e-14</td>\n",
              "      <td>4.518993e-16</td>\n",
              "      <td>-7.340754e-17</td>\n",
              "      <td>0.021604</td>\n",
              "      <td>0.076724</td>\n",
              "      <td>0.078699</td>\n",
              "      <td>0.167273</td>\n",
              "      <td>0.268633</td>\n",
              "      <td>...</td>\n",
              "      <td>0.016262</td>\n",
              "      <td>0.009067</td>\n",
              "      <td>0.003404</td>\n",
              "      <td>0.007251</td>\n",
              "      <td>0.010312</td>\n",
              "      <td>0.000199</td>\n",
              "      <td>0.004917</td>\n",
              "      <td>0.0</td>\n",
              "      <td>0.005006</td>\n",
              "      <td>0.0</td>\n",
              "    </tr>\n",
              "    <tr>\n",
              "      <th>59997</th>\n",
              "      <td>1.962190e-14</td>\n",
              "      <td>6.272695e-15</td>\n",
              "      <td>-1.652453e-14</td>\n",
              "      <td>7.669504e-16</td>\n",
              "      <td>1.456259e-17</td>\n",
              "      <td>0.032093</td>\n",
              "      <td>0.122728</td>\n",
              "      <td>0.127888</td>\n",
              "      <td>0.265631</td>\n",
              "      <td>0.442513</td>\n",
              "      <td>...</td>\n",
              "      <td>0.018244</td>\n",
              "      <td>0.015002</td>\n",
              "      <td>0.006525</td>\n",
              "      <td>0.014056</td>\n",
              "      <td>0.016992</td>\n",
              "      <td>0.000227</td>\n",
              "      <td>0.005763</td>\n",
              "      <td>0.0</td>\n",
              "      <td>0.004169</td>\n",
              "      <td>0.0</td>\n",
              "    </tr>\n",
              "    <tr>\n",
              "      <th>59998</th>\n",
              "      <td>-3.107941e-15</td>\n",
              "      <td>2.467799e-14</td>\n",
              "      <td>3.166214e-14</td>\n",
              "      <td>-1.028091e-15</td>\n",
              "      <td>4.664368e-16</td>\n",
              "      <td>-0.007680</td>\n",
              "      <td>-0.018275</td>\n",
              "      <td>0.025413</td>\n",
              "      <td>0.020316</td>\n",
              "      <td>0.035215</td>\n",
              "      <td>...</td>\n",
              "      <td>0.012633</td>\n",
              "      <td>0.048612</td>\n",
              "      <td>0.050193</td>\n",
              "      <td>0.080366</td>\n",
              "      <td>0.027182</td>\n",
              "      <td>0.005303</td>\n",
              "      <td>0.000444</td>\n",
              "      <td>0.0</td>\n",
              "      <td>-0.005090</td>\n",
              "      <td>0.0</td>\n",
              "    </tr>\n",
              "    <tr>\n",
              "      <th>59999</th>\n",
              "      <td>1.468080e-14</td>\n",
              "      <td>1.348578e-14</td>\n",
              "      <td>1.419409e-14</td>\n",
              "      <td>-4.335483e-16</td>\n",
              "      <td>1.820327e-16</td>\n",
              "      <td>0.006858</td>\n",
              "      <td>0.020861</td>\n",
              "      <td>0.051432</td>\n",
              "      <td>0.099916</td>\n",
              "      <td>0.143473</td>\n",
              "      <td>...</td>\n",
              "      <td>0.015839</td>\n",
              "      <td>0.034953</td>\n",
              "      <td>0.034193</td>\n",
              "      <td>0.055447</td>\n",
              "      <td>0.022249</td>\n",
              "      <td>0.003509</td>\n",
              "      <td>0.001365</td>\n",
              "      <td>0.0</td>\n",
              "      <td>-0.000164</td>\n",
              "      <td>0.0</td>\n",
              "    </tr>\n",
              "  </tbody>\n",
              "</table>\n",
              "<p>60000 rows × 784 columns</p>\n",
              "</div>\n",
              "    <div class=\"colab-df-buttons\">\n",
              "\n",
              "  <div class=\"colab-df-container\">\n",
              "    <button class=\"colab-df-convert\" onclick=\"convertToInteractive('df-1e4ad342-2340-4f0a-84d6-b392a87306fa')\"\n",
              "            title=\"Convert this dataframe to an interactive table.\"\n",
              "            style=\"display:none;\">\n",
              "\n",
              "  <svg xmlns=\"http://www.w3.org/2000/svg\" height=\"24px\" viewBox=\"0 -960 960 960\">\n",
              "    <path d=\"M120-120v-720h720v720H120Zm60-500h600v-160H180v160Zm220 220h160v-160H400v160Zm0 220h160v-160H400v160ZM180-400h160v-160H180v160Zm440 0h160v-160H620v160ZM180-180h160v-160H180v160Zm440 0h160v-160H620v160Z\"/>\n",
              "  </svg>\n",
              "    </button>\n",
              "\n",
              "  <style>\n",
              "    .colab-df-container {\n",
              "      display:flex;\n",
              "      gap: 12px;\n",
              "    }\n",
              "\n",
              "    .colab-df-convert {\n",
              "      background-color: #E8F0FE;\n",
              "      border: none;\n",
              "      border-radius: 50%;\n",
              "      cursor: pointer;\n",
              "      display: none;\n",
              "      fill: #1967D2;\n",
              "      height: 32px;\n",
              "      padding: 0 0 0 0;\n",
              "      width: 32px;\n",
              "    }\n",
              "\n",
              "    .colab-df-convert:hover {\n",
              "      background-color: #E2EBFA;\n",
              "      box-shadow: 0px 1px 2px rgba(60, 64, 67, 0.3), 0px 1px 3px 1px rgba(60, 64, 67, 0.15);\n",
              "      fill: #174EA6;\n",
              "    }\n",
              "\n",
              "    .colab-df-buttons div {\n",
              "      margin-bottom: 4px;\n",
              "    }\n",
              "\n",
              "    [theme=dark] .colab-df-convert {\n",
              "      background-color: #3B4455;\n",
              "      fill: #D2E3FC;\n",
              "    }\n",
              "\n",
              "    [theme=dark] .colab-df-convert:hover {\n",
              "      background-color: #434B5C;\n",
              "      box-shadow: 0px 1px 3px 1px rgba(0, 0, 0, 0.15);\n",
              "      filter: drop-shadow(0px 1px 2px rgba(0, 0, 0, 0.3));\n",
              "      fill: #FFFFFF;\n",
              "    }\n",
              "  </style>\n",
              "\n",
              "    <script>\n",
              "      const buttonEl =\n",
              "        document.querySelector('#df-1e4ad342-2340-4f0a-84d6-b392a87306fa button.colab-df-convert');\n",
              "      buttonEl.style.display =\n",
              "        google.colab.kernel.accessAllowed ? 'block' : 'none';\n",
              "\n",
              "      async function convertToInteractive(key) {\n",
              "        const element = document.querySelector('#df-1e4ad342-2340-4f0a-84d6-b392a87306fa');\n",
              "        const dataTable =\n",
              "          await google.colab.kernel.invokeFunction('convertToInteractive',\n",
              "                                                    [key], {});\n",
              "        if (!dataTable) return;\n",
              "\n",
              "        const docLinkHtml = 'Like what you see? Visit the ' +\n",
              "          '<a target=\"_blank\" href=https://colab.research.google.com/notebooks/data_table.ipynb>data table notebook</a>'\n",
              "          + ' to learn more about interactive tables.';\n",
              "        element.innerHTML = '';\n",
              "        dataTable['output_type'] = 'display_data';\n",
              "        await google.colab.output.renderOutput(dataTable, element);\n",
              "        const docLink = document.createElement('div');\n",
              "        docLink.innerHTML = docLinkHtml;\n",
              "        element.appendChild(docLink);\n",
              "      }\n",
              "    </script>\n",
              "  </div>\n",
              "\n",
              "\n",
              "<div id=\"df-802e3282-8f95-4343-999e-4749b1891bc4\">\n",
              "  <button class=\"colab-df-quickchart\" onclick=\"quickchart('df-802e3282-8f95-4343-999e-4749b1891bc4')\"\n",
              "            title=\"Suggest charts.\"\n",
              "            style=\"display:none;\">\n",
              "\n",
              "<svg xmlns=\"http://www.w3.org/2000/svg\" height=\"24px\"viewBox=\"0 0 24 24\"\n",
              "     width=\"24px\">\n",
              "    <g>\n",
              "        <path d=\"M19 3H5c-1.1 0-2 .9-2 2v14c0 1.1.9 2 2 2h14c1.1 0 2-.9 2-2V5c0-1.1-.9-2-2-2zM9 17H7v-7h2v7zm4 0h-2V7h2v10zm4 0h-2v-4h2v4z\"/>\n",
              "    </g>\n",
              "</svg>\n",
              "  </button>\n",
              "\n",
              "<style>\n",
              "  .colab-df-quickchart {\n",
              "    background-color: #E8F0FE;\n",
              "    border: none;\n",
              "    border-radius: 50%;\n",
              "    cursor: pointer;\n",
              "    display: none;\n",
              "    fill: #1967D2;\n",
              "    height: 32px;\n",
              "    padding: 0 0 0 0;\n",
              "    width: 32px;\n",
              "  }\n",
              "\n",
              "  .colab-df-quickchart:hover {\n",
              "    background-color: #E2EBFA;\n",
              "    box-shadow: 0px 1px 2px rgba(60, 64, 67, 0.3), 0px 1px 3px 1px rgba(60, 64, 67, 0.15);\n",
              "    fill: #174EA6;\n",
              "  }\n",
              "\n",
              "  [theme=dark] .colab-df-quickchart {\n",
              "    background-color: #3B4455;\n",
              "    fill: #D2E3FC;\n",
              "  }\n",
              "\n",
              "  [theme=dark] .colab-df-quickchart:hover {\n",
              "    background-color: #434B5C;\n",
              "    box-shadow: 0px 1px 3px 1px rgba(0, 0, 0, 0.15);\n",
              "    filter: drop-shadow(0px 1px 2px rgba(0, 0, 0, 0.3));\n",
              "    fill: #FFFFFF;\n",
              "  }\n",
              "</style>\n",
              "\n",
              "  <script>\n",
              "    async function quickchart(key) {\n",
              "      const charts = await google.colab.kernel.invokeFunction(\n",
              "          'suggestCharts', [key], {});\n",
              "    }\n",
              "    (() => {\n",
              "      let quickchartButtonEl =\n",
              "        document.querySelector('#df-802e3282-8f95-4343-999e-4749b1891bc4 button');\n",
              "      quickchartButtonEl.style.display =\n",
              "        google.colab.kernel.accessAllowed ? 'block' : 'none';\n",
              "    })();\n",
              "  </script>\n",
              "</div>\n",
              "    </div>\n",
              "  </div>\n"
            ]
          },
          "metadata": {},
          "execution_count": 9
        }
      ]
    },
    {
      "cell_type": "code",
      "source": [
        "plt.imshow(pd_original[0:1].to_numpy().reshape(28,28),cmap=\"gray\")"
      ],
      "metadata": {
        "colab": {
          "base_uri": "https://localhost:8080/",
          "height": 447
        },
        "id": "5k-QYSeU6wTA",
        "outputId": "6bc6370e-4347-4db5-d48f-00063007a6c6"
      },
      "execution_count": null,
      "outputs": [
        {
          "output_type": "execute_result",
          "data": {
            "text/plain": [
              "<matplotlib.image.AxesImage at 0x7e4476705a20>"
            ]
          },
          "metadata": {},
          "execution_count": 10
        },
        {
          "output_type": "display_data",
          "data": {
            "text/plain": [
              "<Figure size 640x480 with 1 Axes>"
            ],
            "image/png": "[encoded data removed]"
          },
          "metadata": {}
        }
      ]
    },
    {
      "cell_type": "code",
      "source": [
        "plt.imshow(train_df.drop('label',axis=1)[0:1].to_numpy().reshape(28,28),cmap=\"gray\")"
      ],
      "metadata": {
        "colab": {
          "base_uri": "https://localhost:8080/",
          "height": 447
        },
        "id": "SlfueGRU4AIl",
        "outputId": "e7ed3e4b-016a-4ec1-efb5-4b912ba064c7"
      },
      "execution_count": null,
      "outputs": [
        {
          "output_type": "execute_result",
          "data": {
            "text/plain": [
              "<matplotlib.image.AxesImage at 0x7e4475a43010>"
            ]
          },
          "metadata": {},
          "execution_count": 11
        },
        {
          "output_type": "display_data",
          "data": {
            "text/plain": [
              "<Figure size 640x480 with 1 Axes>"
            ],
            "image/png": "[encoded data removed]"
          },
          "metadata": {}
        }
      ]
    },
    {
      "cell_type": "code",
      "source": [
        "import random"
      ],
      "metadata": {
        "id": "p5Xea9jc4u2N"
      },
      "execution_count": null,
      "outputs": []
    },
    {
      "cell_type": "code",
      "source": [
        "n = 5\n",
        "fig, ax = plt.subplots(n,2)\n",
        "for i in range(n):\n",
        "   x = random.randint(0, 783)\n",
        "   ax[i, 0].imshow(train_df.drop('label',axis=1)[x : x+1].to_numpy().reshape(28, 28), cmap= 'gray')\n",
        "   ax[i, 1].imshow(pd_original[x : x+1].to_numpy().reshape(28, 28), cmap= 'gray')\n",
        "plt.show()"
      ],
      "metadata": {
        "colab": {
          "base_uri": "https://localhost:8080/",
          "height": 434
        },
        "id": "NPrXHKTA4Bat",
        "outputId": "17e5e89e-d4ee-4c0a-d7a9-305731271bff"
      },
      "execution_count": null,
      "outputs": [
        {
          "output_type": "display_data",
          "data": {
            "text/plain": [
              "<Figure size 640x480 with 10 Axes>"
            ],
            "image/png": "[encoded data removed]"
          },
          "metadata": {}
        }
      ]
    },
    {
      "cell_type": "markdown",
      "source": [
        "#Autoencoders"
      ],
      "metadata": {
        "id": "PNxrrurF5JY9"
      }
    },
    {
      "cell_type": "code",
      "source": [
        "import torch\n",
        "import torch.nn as nn\n",
        "from torch.utils.data import DataLoader,Dataset\n",
        "import torch.optim as optim\n",
        "from tqdm import tqdm"
      ],
      "metadata": {
        "id": "g6lpjxho4yEl"
      },
      "execution_count": null,
      "outputs": []
    },
    {
      "cell_type": "code",
      "source": [
        "class Autoencoder(nn.Module):\n",
        "    def __init__(self, k):\n",
        "        super(Autoencoder, self).__init__()\n",
        "        self.encoder_layer1 = nn.Linear(784, 500)\n",
        "        self.encoder_layer2 = nn.Linear(500, 250)\n",
        "        self.encoder_layer3 = nn.Linear(250, k)\n",
        "\n",
        "        self.decoder_layer1 = nn.Linear(k, 250)\n",
        "        self.decoder_layer2 = nn.Linear(250, 500)\n",
        "        self.decoder_layer3 = nn.Linear(500, 784)\n",
        "\n",
        "    def forward(self, x):\n",
        "        encoded = self.encoder_layer1(x)\n",
        "        encoded = self.encoder_layer2(encoded)\n",
        "        encoded = self.encoder_layer3(encoded)\n",
        "\n",
        "        decoded = self.decoder_layer1(encoded)\n",
        "        decoded = self.decoder_layer2(decoded)\n",
        "        decoded = self.decoder_layer3(decoded)\n",
        "\n",
        "        return decoded"
      ],
      "metadata": {
        "id": "pkCxqcye8GQN"
      },
      "execution_count": null,
      "outputs": []
    },
    {
      "cell_type": "code",
      "source": [
        "class KanadaMnist(Dataset):\n",
        "    def __init__(self, csv_file):\n",
        "        self.data = pd.read_csv(csv_file)\n",
        "        self.pixels = self.data.iloc[:, 1:].values.astype(float)/255.0\n",
        "\n",
        "    def __len__(self):\n",
        "        return len(self.data)\n",
        "\n",
        "    def __getitem__(self, idx):\n",
        "        pixels = self.pixels[idx]\n",
        "        return torch.tensor(pixels, dtype=torch.float32)"
      ],
      "metadata": {
        "id": "Tvg6Zz2L8Lnk"
      },
      "execution_count": null,
      "outputs": []
    },
    {
      "cell_type": "code",
      "source": [
        "train_data=KanadaMnist(\"/content/kanada/train.csv\")\n",
        "test_data=KanadaMnist(\"/content/kanada/test.csv\")"
      ],
      "metadata": {
        "id": "DOfKSLAP8Qil"
      },
      "execution_count": null,
      "outputs": []
    },
    {
      "cell_type": "code",
      "source": [
        "k=4\n",
        "autoencoderModel=Autoencoder(k)"
      ],
      "metadata": {
        "id": "p8lOCPKF8dXd"
      },
      "execution_count": null,
      "outputs": []
    },
    {
      "cell_type": "code",
      "source": [
        "autoencoderModel"
      ],
      "metadata": {
        "colab": {
          "base_uri": "https://localhost:8080/"
        },
        "id": "6eeWFo0684f8",
        "outputId": "6bbf0b5c-9869-4af2-cda1-2891fcdf0e3f"
      },
      "execution_count": null,
      "outputs": [
        {
          "output_type": "execute_result",
          "data": {
            "text/plain": [
              "Autoencoder(\n",
              "  (encoder_layer1): Linear(in_features=784, out_features=500, bias=True)\n",
              "  (encoder_layer2): Linear(in_features=500, out_features=250, bias=True)\n",
              "  (encoder_layer3): Linear(in_features=250, out_features=4, bias=True)\n",
              "  (decoder_layer1): Linear(in_features=4, out_features=250, bias=True)\n",
              "  (decoder_layer2): Linear(in_features=250, out_features=500, bias=True)\n",
              "  (decoder_layer3): Linear(in_features=500, out_features=784, bias=True)\n",
              ")"
            ]
          },
          "metadata": {},
          "execution_count": 19
        }
      ]
    },
    {
      "cell_type": "code",
      "source": [
        "batch_size=64\n",
        "train=DataLoader(train_data,batch_size=batch_size,shuffle=True)\n",
        "test=DataLoader(test_data,batch_size=batch_size,shuffle=True)"
      ],
      "metadata": {
        "id": "EwPCdjCE88wc"
      },
      "execution_count": null,
      "outputs": []
    },
    {
      "cell_type": "code",
      "source": [
        "learning_rate=0.001\n",
        "num_epochs=20"
      ],
      "metadata": {
        "id": "Y4WfAwVO9_5l"
      },
      "execution_count": null,
      "outputs": []
    },
    {
      "cell_type": "code",
      "source": [
        "loss_fn=nn.MSELoss()\n",
        "optimizer=optim.AdamW(autoencoderModel.parameters(),lr=learning_rate)"
      ],
      "metadata": {
        "id": "TMjoyhq69tx8"
      },
      "execution_count": null,
      "outputs": []
    },
    {
      "cell_type": "code",
      "source": [
        "device = torch.device(\"cuda\" if torch.cuda.is_available() else \"cpu\")\n",
        "autoencoderModel.to(device)"
      ],
      "metadata": {
        "colab": {
          "base_uri": "https://localhost:8080/"
        },
        "id": "hqPYlgcQAQ0c",
        "outputId": "d288e3a3-2468-493a-fcfc-46f9864e8091"
      },
      "execution_count": null,
      "outputs": [
        {
          "output_type": "execute_result",
          "data": {
            "text/plain": [
              "Autoencoder(\n",
              "  (encoder_layer1): Linear(in_features=784, out_features=500, bias=True)\n",
              "  (encoder_layer2): Linear(in_features=500, out_features=250, bias=True)\n",
              "  (encoder_layer3): Linear(in_features=250, out_features=4, bias=True)\n",
              "  (decoder_layer1): Linear(in_features=4, out_features=250, bias=True)\n",
              "  (decoder_layer2): Linear(in_features=250, out_features=500, bias=True)\n",
              "  (decoder_layer3): Linear(in_features=500, out_features=784, bias=True)\n",
              ")"
            ]
          },
          "metadata": {},
          "execution_count": 27
        }
      ]
    },
    {
      "cell_type": "code",
      "source": [
        "num_batches = len(train_df) // batch_size\n",
        "\n",
        "for epoch in range(num_epochs):\n",
        "    total_loss = 0.0\n",
        "    progress_bar = tqdm(range(num_batches), desc=f\"Epoch [{epoch+1}/{num_epochs}]\")\n",
        "\n",
        "    autoencoderModel.train()  # Set the model to training mode\n",
        "    for batch_idx in progress_bar:\n",
        "        batch_start = batch_idx * batch_size\n",
        "        batch_end = (batch_idx + 1) * batch_size\n",
        "\n",
        "        batch_inputs = train_data[batch_start:batch_end].to(device)  # Move data to GPU\n",
        "        optimizer.zero_grad()\n",
        "\n",
        "        batch_outputs = autoencoderModel(batch_inputs)\n",
        "        reconstruction_loss = loss_fn(batch_outputs, batch_inputs)\n",
        "        reconstruction_loss.backward()\n",
        "        optimizer.step()\n",
        "\n",
        "        total_loss += reconstruction_loss.item() * batch_inputs.size(0)\n",
        "        average_loss = total_loss / (batch_idx + 1) * batch_size\n",
        "\n",
        "        progress_bar.set_postfix({\"Avg Loss\": f\"{average_loss:.4f}\"})\n",
        "\n",
        "    progress_bar.close()\n",
        "    autoencoderModel.eval()\n",
        "    test_loss = 0.0\n",
        "    with torch.no_grad():\n",
        "        for test_batch in test_data:\n",
        "            test_inputs = test_batch.to(device)\n",
        "            test_outputs = autoencoderModel(test_inputs)\n",
        "            test_loss += loss_fn(test_outputs, test_inputs).item() * test_inputs.size(0)\n",
        "\n",
        "    average_test_loss = test_loss / len(test_df)\n",
        "    print(f\"Epoch [{epoch+1}/{num_epochs}], Test Loss: {average_test_loss:.4f}\")"
      ],
      "metadata": {
        "colab": {
          "base_uri": "https://localhost:8080/"
        },
        "id": "5njuIjRE-P2Q",
        "outputId": "aeadbdda-ba64-469e-b238-978f10b80936"
      },
      "execution_count": null,
      "outputs": [
        {
          "output_type": "stream",
          "name": "stderr",
          "text": [
            "Epoch [1/20]: 100%|██████████| 937/937 [00:04<00:00, 188.71it/s, Avg Loss=153.2732]\n"
          ]
        },
        {
          "output_type": "stream",
          "name": "stdout",
          "text": [
            "Epoch [1/20], Test Loss: 28.7026\n"
          ]
        },
        {
          "output_type": "stream",
          "name": "stderr",
          "text": [
            "Epoch [2/20]: 100%|██████████| 937/937 [00:05<00:00, 186.29it/s, Avg Loss=153.1554]\n"
          ]
        },
        {
          "output_type": "stream",
          "name": "stdout",
          "text": [
            "Epoch [2/20], Test Loss: 28.3704\n"
          ]
        },
        {
          "output_type": "stream",
          "name": "stderr",
          "text": [
            "Epoch [3/20]: 100%|██████████| 937/937 [00:05<00:00, 182.30it/s, Avg Loss=426.4348]\n"
          ]
        },
        {
          "output_type": "stream",
          "name": "stdout",
          "text": [
            "Epoch [3/20], Test Loss: 28.8545\n"
          ]
        },
        {
          "output_type": "stream",
          "name": "stderr",
          "text": [
            "Epoch [4/20]: 100%|██████████| 937/937 [00:04<00:00, 188.71it/s, Avg Loss=155.4152]\n"
          ]
        },
        {
          "output_type": "stream",
          "name": "stdout",
          "text": [
            "Epoch [4/20], Test Loss: 28.3802\n"
          ]
        },
        {
          "output_type": "stream",
          "name": "stderr",
          "text": [
            "Epoch [5/20]: 100%|██████████| 937/937 [00:05<00:00, 184.25it/s, Avg Loss=154.4369]\n"
          ]
        },
        {
          "output_type": "stream",
          "name": "stdout",
          "text": [
            "Epoch [5/20], Test Loss: 28.3045\n"
          ]
        },
        {
          "output_type": "stream",
          "name": "stderr",
          "text": [
            "Epoch [6/20]: 100%|██████████| 937/937 [00:05<00:00, 177.44it/s, Avg Loss=154.2017]\n"
          ]
        },
        {
          "output_type": "stream",
          "name": "stdout",
          "text": [
            "Epoch [6/20], Test Loss: 28.3487\n"
          ]
        },
        {
          "output_type": "stream",
          "name": "stderr",
          "text": [
            "Epoch [7/20]: 100%|██████████| 937/937 [00:05<00:00, 178.02it/s, Avg Loss=154.0906]\n"
          ]
        },
        {
          "output_type": "stream",
          "name": "stdout",
          "text": [
            "Epoch [7/20], Test Loss: 28.2936\n"
          ]
        },
        {
          "output_type": "stream",
          "name": "stderr",
          "text": [
            "Epoch [8/20]: 100%|██████████| 937/937 [00:04<00:00, 190.07it/s, Avg Loss=154.4212]\n"
          ]
        },
        {
          "output_type": "stream",
          "name": "stdout",
          "text": [
            "Epoch [8/20], Test Loss: 28.2442\n"
          ]
        },
        {
          "output_type": "stream",
          "name": "stderr",
          "text": [
            "Epoch [9/20]: 100%|██████████| 937/937 [00:04<00:00, 188.14it/s, Avg Loss=153.7268]\n"
          ]
        },
        {
          "output_type": "stream",
          "name": "stdout",
          "text": [
            "Epoch [9/20], Test Loss: 28.2118\n"
          ]
        },
        {
          "output_type": "stream",
          "name": "stderr",
          "text": [
            "Epoch [10/20]: 100%|██████████| 937/937 [00:04<00:00, 192.45it/s, Avg Loss=153.6296]\n"
          ]
        },
        {
          "output_type": "stream",
          "name": "stdout",
          "text": [
            "Epoch [10/20], Test Loss: 28.2102\n"
          ]
        },
        {
          "output_type": "stream",
          "name": "stderr",
          "text": [
            "Epoch [11/20]: 100%|██████████| 937/937 [00:04<00:00, 191.37it/s, Avg Loss=153.6961]\n"
          ]
        },
        {
          "output_type": "stream",
          "name": "stdout",
          "text": [
            "Epoch [11/20], Test Loss: 28.2186\n"
          ]
        },
        {
          "output_type": "stream",
          "name": "stderr",
          "text": [
            "Epoch [12/20]: 100%|██████████| 937/937 [00:04<00:00, 193.04it/s, Avg Loss=153.3100]\n"
          ]
        },
        {
          "output_type": "stream",
          "name": "stdout",
          "text": [
            "Epoch [12/20], Test Loss: 28.2234\n"
          ]
        },
        {
          "output_type": "stream",
          "name": "stderr",
          "text": [
            "Epoch [13/20]: 100%|██████████| 937/937 [00:04<00:00, 195.21it/s, Avg Loss=153.2256]\n"
          ]
        },
        {
          "output_type": "stream",
          "name": "stdout",
          "text": [
            "Epoch [13/20], Test Loss: 28.2542\n"
          ]
        },
        {
          "output_type": "stream",
          "name": "stderr",
          "text": [
            "Epoch [14/20]: 100%|██████████| 937/937 [00:04<00:00, 187.59it/s, Avg Loss=153.1403]\n"
          ]
        },
        {
          "output_type": "stream",
          "name": "stdout",
          "text": [
            "Epoch [14/20], Test Loss: 28.2131\n"
          ]
        },
        {
          "output_type": "stream",
          "name": "stderr",
          "text": [
            "Epoch [15/20]: 100%|██████████| 937/937 [00:05<00:00, 187.01it/s, Avg Loss=597.2152]\n"
          ]
        },
        {
          "output_type": "stream",
          "name": "stdout",
          "text": [
            "Epoch [15/20], Test Loss: 34.6244\n"
          ]
        },
        {
          "output_type": "stream",
          "name": "stderr",
          "text": [
            "Epoch [16/20]: 100%|██████████| 937/937 [00:04<00:00, 191.42it/s, Avg Loss=163.0364]\n"
          ]
        },
        {
          "output_type": "stream",
          "name": "stdout",
          "text": [
            "Epoch [16/20], Test Loss: 28.6411\n"
          ]
        },
        {
          "output_type": "stream",
          "name": "stderr",
          "text": [
            "Epoch [17/20]: 100%|██████████| 937/937 [00:04<00:00, 188.44it/s, Avg Loss=155.3050]\n"
          ]
        },
        {
          "output_type": "stream",
          "name": "stdout",
          "text": [
            "Epoch [17/20], Test Loss: 28.3025\n"
          ]
        },
        {
          "output_type": "stream",
          "name": "stderr",
          "text": [
            "Epoch [18/20]: 100%|██████████| 937/937 [00:04<00:00, 194.25it/s, Avg Loss=154.1397]\n"
          ]
        },
        {
          "output_type": "stream",
          "name": "stdout",
          "text": [
            "Epoch [18/20], Test Loss: 28.1762\n"
          ]
        },
        {
          "output_type": "stream",
          "name": "stderr",
          "text": [
            "Epoch [19/20]: 100%|██████████| 937/937 [00:04<00:00, 190.76it/s, Avg Loss=153.7200]\n"
          ]
        },
        {
          "output_type": "stream",
          "name": "stdout",
          "text": [
            "Epoch [19/20], Test Loss: 28.1319\n"
          ]
        },
        {
          "output_type": "stream",
          "name": "stderr",
          "text": [
            "Epoch [20/20]: 100%|██████████| 937/937 [00:05<00:00, 185.20it/s, Avg Loss=153.6244]\n"
          ]
        },
        {
          "output_type": "stream",
          "name": "stdout",
          "text": [
            "Epoch [20/20], Test Loss: 28.1441\n"
          ]
        }
      ]
    }
  ]
}